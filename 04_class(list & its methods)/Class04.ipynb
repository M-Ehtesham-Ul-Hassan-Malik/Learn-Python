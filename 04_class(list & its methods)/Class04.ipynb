{
 "cells": [
  {
   "cell_type": "code",
   "execution_count": null,
   "metadata": {},
   "outputs": [],
   "source": [
    "name1 : str = \"Fatima\"\n",
    "name2 : str = \"Amjad\"\n",
    "name3 : str = \"Ehtesam\""
   ]
  },
  {
   "cell_type": "markdown",
   "metadata": {},
   "source": [
    "# List\n",
    "* dynamic length\n",
    "* hetrogenous data types (Multiple type)\n",
    "* index\n",
    "    * postive 0 to n-1\n",
    "    * negative -1 to length\n",
    "* Slicing\n",
    "    * variable names[start:end:step]\n",
    "    * start : int = include\n",
    "    * end : int = n-1\n",
    "    * step : int = sequance"
   ]
  },
  {
   "cell_type": "code",
   "execution_count": 3,
   "metadata": {},
   "outputs": [
    {
     "name": "stdout",
     "output_type": "stream",
     "text": [
      "M Ehtesham ul Hassan Malik\n",
      "Amjad\n",
      "Mishquat\n"
     ]
    }
   ],
   "source": [
    "\n",
    "# ->                    0        1                  2\n",
    "names : list[str] = [\"Amjad\",\"Fatima Zahra\", \"M Ehtesham ul Hassan Malik\",\"Mishquat\"]\n",
    "# <-                    -3     -2                    -1\n",
    "\n",
    "print(names[-2])\n",
    "print(names[0])\n",
    "print(names[3])"
   ]
  },
  {
   "cell_type": "code",
   "execution_count": 6,
   "metadata": {},
   "outputs": [
    {
     "name": "stdout",
     "output_type": "stream",
     "text": [
      "20\n",
      "M Ehtesham ul Hassan Malik\n"
     ]
    }
   ],
   "source": [
    "from typing import Any\n",
    "\n",
    "# ->                    0        1                        2                    3       4    5\n",
    "names : list[Any] = [\"Amjad\",\"Fatima Zahra\", \"M Ehtesham ul Hassan Malik\",\"Mishquat\", 20, True]\n",
    "# <-                    -6             -5                   -4               -3       -2   -1\n",
    "\n",
    "print(names[-2])\n",
    "print(names[-4])"
   ]
  },
  {
   "cell_type": "code",
   "execution_count": 8,
   "metadata": {},
   "outputs": [
    {
     "name": "stdout",
     "output_type": "stream",
     "text": [
      "<class 'list'>\n",
      "<class 'str'>\n",
      "Founder of Afkaar-e-Danishmand M EHTESHAM UL HASSAN MALIK\n"
     ]
    }
   ],
   "source": [
    "names : list[Any] = [\"Amjad\",\"Fatima Zahra\", \"M Ehtesham ul Hassan Malik\",\"Mishquat\"]\n",
    "print(type(names))\n",
    "print(type(names[-2]))\n",
    "\n",
    "print(f'Founder of Afkaar-e-Danishmand {names[-2].upper()}')"
   ]
  },
  {
   "cell_type": "code",
   "execution_count": 9,
   "metadata": {},
   "outputs": [
    {
     "data": {
      "text/plain": [
       "'abcdef'"
      ]
     },
     "execution_count": 9,
     "metadata": {},
     "output_type": "execute_result"
    }
   ],
   "source": [
    "'abcdef'"
   ]
  },
  {
   "cell_type": "code",
   "execution_count": 10,
   "metadata": {},
   "outputs": [
    {
     "data": {
      "text/plain": [
       "['a', 'b', 'c', 'd', 'e', 'f']"
      ]
     },
     "execution_count": 10,
     "metadata": {},
     "output_type": "execute_result"
    }
   ],
   "source": [
    "list('abcdef')"
   ]
  },
  {
   "cell_type": "code",
   "execution_count": 11,
   "metadata": {},
   "outputs": [
    {
     "name": "stdout",
     "output_type": "stream",
     "text": [
      "['A', 'B', 'C', 'D', 'E', 'F', 'G', 'H', 'I', 'J', 'K', 'L', 'M', 'N', 'O', 'P', 'Q', 'R', 'S', 'T', 'U', 'V', 'W', 'X', 'Y', 'X']\n"
     ]
    }
   ],
   "source": [
    "characters : list[str] = list(\"ABCDEFGHIJKLMNOPQRSTUVWXYX\")\n",
    "print(characters)"
   ]
  },
  {
   "cell_type": "code",
   "execution_count": 13,
   "metadata": {},
   "outputs": [
    {
     "name": "stdout",
     "output_type": "stream",
     "text": [
      "['A', 'B']\n",
      "['A', 'B']\n",
      "['A', 'B']\n",
      "['A', 'B']\n",
      "['A', 'B']\n"
     ]
    }
   ],
   "source": [
    "#                          0    1    2                                                                                                                 25\n",
    "characters : list[str] = ['A', 'B', 'C', 'D', 'E', 'F', 'G', 'H', 'I', 'J', 'K', 'L', 'M', 'N', 'O', 'P', 'Q', 'R', 'S', 'T', 'U', 'V', 'W', 'X', 'Y', 'X']\n",
    "#                         -26   -25  -24                                                                                                                         -1\n",
    "# Slicing\n",
    "   # * variable names[start:end:step]\n",
    "   # * start : int = include\n",
    "   # * end : int = n-1\n",
    "   # * step : int = sequance\n",
    "# defualt slicing go from left to right\n",
    "print(characters[0:2]) # 0= include : index 2-1 = 1\n",
    "print(characters[:2]) # not pass any number = all\n",
    "print(characters[-26:-24])# 0= include : index -24-1 = -25\n",
    "print(characters[0:2:1]) # 0= include : index 2-1 = 1\n",
    "print(characters[0:2:]) # 0= include : index 2-1 = 1"
   ]
  },
  {
   "cell_type": "code",
   "execution_count": 14,
   "metadata": {},
   "outputs": [
    {
     "name": "stdout",
     "output_type": "stream",
     "text": [
      "['A', 'B', 'C', 'D', 'E', 'F', 'G', 'H', 'I', 'J', 'K', 'L', 'M', 'N', 'O', 'P', 'Q', 'R', 'S', 'T', 'U', 'V', 'W', 'X', 'Y', 'X']\n"
     ]
    }
   ],
   "source": [
    "characters : list[str] = ['A', 'B', 'C', 'D', 'E', 'F', 'G', 'H', 'I', 'J', 'K', 'L', 'M', 'N', 'O', 'P', 'Q', 'R', 'S', 'T', 'U', 'V', 'W', 'X', 'Y', 'X']\n",
    "\n",
    "print(characters[::])"
   ]
  },
  {
   "cell_type": "code",
   "execution_count": 15,
   "metadata": {},
   "outputs": [
    {
     "name": "stdout",
     "output_type": "stream",
     "text": [
      "['A', 'C', 'E', 'G', 'I', 'K', 'M', 'O', 'Q', 'S', 'U', 'W', 'Y']\n"
     ]
    }
   ],
   "source": [
    "characters : list[str] = ['A', 'B', 'C', 'D', 'E', 'F', 'G', 'H', 'I', 'J', 'K', 'L', 'M', 'N', 'O', 'P', 'Q', 'R', 'S', 'T', 'U', 'V', 'W', 'X', 'Y', 'X']\n",
    "\n",
    "print(characters[::2])"
   ]
  },
  {
   "cell_type": "code",
   "execution_count": 16,
   "metadata": {},
   "outputs": [
    {
     "name": "stdout",
     "output_type": "stream",
     "text": [
      "['B', 'C', 'D', 'E', 'F', 'G', 'H', 'I', 'J', 'K', 'L', 'M', 'N', 'O', 'P', 'Q', 'R', 'S', 'T', 'U', 'V', 'W']\n"
     ]
    }
   ],
   "source": [
    "characters : list[str] = ['A', 'B', 'C', 'D', 'E', 'F', 'G', 'H', 'I', 'J', 'K', 'L', 'M', 'N', 'O', 'P', 'Q', 'R', 'S', 'T', 'U', 'V', 'W', 'X', 'Y', 'X']\n",
    "\n",
    "print(characters[1:-3])"
   ]
  },
  {
   "cell_type": "code",
   "execution_count": 17,
   "metadata": {},
   "outputs": [
    {
     "name": "stdout",
     "output_type": "stream",
     "text": [
      "['Z', 'Y', 'X', 'W', 'V', 'U', 'T', 'S', 'R', 'Q', 'P', 'O', 'N', 'M', 'L', 'K', 'J', 'I', 'H', 'G', 'F', 'E', 'D', 'C', 'B', 'A']\n"
     ]
    }
   ],
   "source": [
    "characters : list[str] = ['A', 'B', 'C', 'D', 'E', 'F', 'G', 'H', 'I', 'J', 'K', 'L', 'M', 'N', 'O', 'P', 'Q', 'R', 'S', 'T', 'U', 'V', 'W', 'X', 'Y', 'Z']\n",
    "\n",
    "print(characters[::-1]) # <-"
   ]
  },
  {
   "cell_type": "code",
   "execution_count": 18,
   "metadata": {},
   "outputs": [
    {
     "name": "stdout",
     "output_type": "stream",
     "text": [
      "['G', 'F', 'E']\n"
     ]
    }
   ],
   "source": [
    "#                          0    1    2    3    4   5     6    7\n",
    "characters : list[str] = ['A', 'B', 'C', 'D', 'E', 'F', 'G', 'H']\n",
    "#                         -8    -7   -6  -5    -4   -3   -2   -1\n",
    "\n",
    "# iteration slicing ->\n",
    "# step -> positive\n",
    "# step <- negative\n",
    "print(characters[-2:-5:-1]) "
   ]
  },
  {
   "cell_type": "markdown",
   "metadata": {},
   "source": [
    "# List Methods"
   ]
  },
  {
   "cell_type": "code",
   "execution_count": 19,
   "metadata": {},
   "outputs": [
    {
     "data": {
      "text/plain": [
       "['append',\n",
       " 'clear',\n",
       " 'copy',\n",
       " 'count',\n",
       " 'extend',\n",
       " 'index',\n",
       " 'insert',\n",
       " 'pop',\n",
       " 'remove',\n",
       " 'reverse',\n",
       " 'sort']"
      ]
     },
     "execution_count": 19,
     "metadata": {},
     "output_type": "execute_result"
    }
   ],
   "source": [
    "[i for i in dir(list) if \"__\" not in i]"
   ]
  },
  {
   "cell_type": "code",
   "execution_count": 20,
   "metadata": {},
   "outputs": [
    {
     "name": "stdout",
     "output_type": "stream",
     "text": [
      "[1, 2, 3]\n"
     ]
    }
   ],
   "source": [
    "a: list[str] = [1,2,3]\n",
    "print(a)"
   ]
  },
  {
   "cell_type": "code",
   "execution_count": 21,
   "metadata": {},
   "outputs": [
    {
     "ename": "NameError",
     "evalue": "name 'a' is not defined",
     "output_type": "error",
     "traceback": [
      "\u001b[1;31m---------------------------------------------------------------------------\u001b[0m",
      "\u001b[1;31mNameError\u001b[0m                                 Traceback (most recent call last)",
      "Cell \u001b[1;32mIn[21], line 3\u001b[0m\n\u001b[0;32m      1\u001b[0m a: \u001b[38;5;28mlist\u001b[39m[\u001b[38;5;28mstr\u001b[39m] \u001b[38;5;241m=\u001b[39m [\u001b[38;5;241m1\u001b[39m,\u001b[38;5;241m2\u001b[39m,\u001b[38;5;241m3\u001b[39m]\n\u001b[0;32m      2\u001b[0m \u001b[38;5;28;01mdel\u001b[39;00m a \u001b[38;5;66;03m# remove object from memory\u001b[39;00m\n\u001b[1;32m----> 3\u001b[0m \u001b[38;5;28mprint\u001b[39m(\u001b[43ma\u001b[49m)\n",
      "\u001b[1;31mNameError\u001b[0m: name 'a' is not defined"
     ]
    }
   ],
   "source": [
    "a: list[str] = [1,2,3]\n",
    "del a # remove object from memory\n",
    "print(a)"
   ]
  },
  {
   "cell_type": "code",
   "execution_count": 22,
   "metadata": {},
   "outputs": [
    {
     "name": "stdout",
     "output_type": "stream",
     "text": [
      "[]\n"
     ]
    }
   ],
   "source": [
    "a: list[str] = [1,2,3]\n",
    "a.clear()# remove all element but object is ramin\n",
    "print(a)"
   ]
  },
  {
   "cell_type": "markdown",
   "metadata": {},
   "source": [
    "# HELP!\n",
    "* help(object)\n",
    "* object?\n",
    "* object??\n",
    "* ?object\n",
    "* ??object"
   ]
  },
  {
   "cell_type": "code",
   "execution_count": 24,
   "metadata": {},
   "outputs": [
    {
     "name": "stdout",
     "output_type": "stream",
     "text": [
      "Help on built-in function print in module builtins:\n",
      "\n",
      "print(*args, sep=' ', end='\\n', file=None, flush=False)\n",
      "    Prints the values to a stream, or to sys.stdout by default.\n",
      "\n",
      "    sep\n",
      "      string inserted between values, default a space.\n",
      "    end\n",
      "      string appended after the last value, default a newline.\n",
      "    file\n",
      "      a file-like object (stream); defaults to the current sys.stdout.\n",
      "    flush\n",
      "      whether to forcibly flush the stream.\n",
      "\n"
     ]
    }
   ],
   "source": [
    "\n",
    "help(print)"
   ]
  },
  {
   "cell_type": "code",
   "execution_count": 25,
   "metadata": {},
   "outputs": [
    {
     "name": "stdout",
     "output_type": "stream",
     "text": [
      "\u001b[1;31mSignature:\u001b[0m \u001b[0mprint\u001b[0m\u001b[1;33m(\u001b[0m\u001b[1;33m*\u001b[0m\u001b[0margs\u001b[0m\u001b[1;33m,\u001b[0m \u001b[0msep\u001b[0m\u001b[1;33m=\u001b[0m\u001b[1;34m' '\u001b[0m\u001b[1;33m,\u001b[0m \u001b[0mend\u001b[0m\u001b[1;33m=\u001b[0m\u001b[1;34m'\\n'\u001b[0m\u001b[1;33m,\u001b[0m \u001b[0mfile\u001b[0m\u001b[1;33m=\u001b[0m\u001b[1;32mNone\u001b[0m\u001b[1;33m,\u001b[0m \u001b[0mflush\u001b[0m\u001b[1;33m=\u001b[0m\u001b[1;32mFalse\u001b[0m\u001b[1;33m)\u001b[0m\u001b[1;33m\u001b[0m\u001b[1;33m\u001b[0m\u001b[0m\n",
      "\u001b[1;31mDocstring:\u001b[0m\n",
      "Prints the values to a stream, or to sys.stdout by default.\n",
      "\n",
      "sep\n",
      "  string inserted between values, default a space.\n",
      "end\n",
      "  string appended after the last value, default a newline.\n",
      "file\n",
      "  a file-like object (stream); defaults to the current sys.stdout.\n",
      "flush\n",
      "  whether to forcibly flush the stream.\n",
      "\u001b[1;31mType:\u001b[0m      builtin_function_or_method"
     ]
    }
   ],
   "source": [
    "??print"
   ]
  },
  {
   "cell_type": "code",
   "execution_count": 27,
   "metadata": {},
   "outputs": [
    {
     "name": "stdout",
     "output_type": "stream",
     "text": [
      "['Amjad', 'Fatima Zahra', 'M Ehtesham ul Hassan Malik', 'Mishquat', 20, True]\n",
      "['Malik Amjad Hussain', 'Fatima Zahra', 'M Ehtesham ul Hassan Malik', 'Mishquat', 20, True]\n"
     ]
    }
   ],
   "source": [
    "# ->                    0        1                        2                    3       4    5\n",
    "names : list[Any] = [\"Amjad\",\"Fatima Zahra\", \"M Ehtesham ul Hassan Malik\",\"Mishquat\", 20, True]\n",
    "# <-                    \n",
    "\n",
    "print(names)\n",
    "names[0]=\"Malik Amjad Hussain\"  #editable\n",
    "print(names)"
   ]
  },
  {
   "cell_type": "code",
   "execution_count": 28,
   "metadata": {},
   "outputs": [
    {
     "name": "stdout",
     "output_type": "stream",
     "text": [
      "['Amjad', 'Fatima Zahra', 'M Ehtesham ul Hassan Malik', 'Mishquat', 20, True]\n",
      "['Amjad', 'Fatima Zahra', 'Mishquat', 20, True]\n"
     ]
    }
   ],
   "source": [
    "# ->                    0        1                        2                    3       4    5\n",
    "names : list[Any] = [\"Amjad\",\"Fatima Zahra\", \"M Ehtesham ul Hassan Malik\",\"Mishquat\", 20, True]\n",
    "# <-                    \n",
    "\n",
    "print(names)\n",
    "del names[2]  # delete 2 form index\n",
    "print(names)"
   ]
  },
  {
   "cell_type": "markdown",
   "metadata": {},
   "source": [
    "# pop Method"
   ]
  },
  {
   "cell_type": "code",
   "execution_count": 32,
   "metadata": {},
   "outputs": [
    {
     "name": "stdout",
     "output_type": "stream",
     "text": [
      "['Amjad', 'Fatima Zahra', 'M Ehtesham ul Hassan Malik', 'Mishquat', 20, True]\n",
      "True\n"
     ]
    }
   ],
   "source": [
    "# ->                    0        1                        2                    3       4    5\n",
    "names : list[Any] = [\"Amjad\",\"Fatima Zahra\", \"M Ehtesham ul Hassan Malik\",\"Mishquat\", 20, True]\n",
    "# <-                    \n",
    "\n",
    "print(names)\n",
    "a : str = names.pop()\n",
    "print(a)"
   ]
  },
  {
   "cell_type": "code",
   "execution_count": 33,
   "metadata": {},
   "outputs": [
    {
     "name": "stdout",
     "output_type": "stream",
     "text": [
      "['Amjad', 'Fatima Zahra', 'M Ehtesham ul Hassan Malik', 'Mishquat', 20, True]\n",
      "M Ehtesham ul Hassan Malik\n"
     ]
    }
   ],
   "source": [
    "# ->                    0        1                        2                    3       4    5\n",
    "names : list[Any] = [\"Amjad\",\"Fatima Zahra\", \"M Ehtesham ul Hassan Malik\",\"Mishquat\", 20, True]\n",
    "# <-                    \n",
    "\n",
    "print(names)\n",
    "a : str = names.pop(2)\n",
    "print(a)"
   ]
  },
  {
   "cell_type": "markdown",
   "metadata": {},
   "source": [
    "# Append Method & add element in the last"
   ]
  },
  {
   "cell_type": "code",
   "execution_count": 34,
   "metadata": {},
   "outputs": [
    {
     "name": "stdout",
     "output_type": "stream",
     "text": [
      "['Amjad', 'Fatima Zahra', 'M Ehtesham ul Hassan Malik', 'Mishquat', 20, True]\n",
      "['Malik Azmat Hussain', 'Amjad', 'Fatima Zahra', 'M Ehtesham ul Hassan Malik', 'Mishquat', 20, True]\n"
     ]
    }
   ],
   "source": [
    "# ->                    0        1                        2                    3       4    5\n",
    "names : list[Any] = [\"Amjad\",\"Fatima Zahra\", \"M Ehtesham ul Hassan Malik\",\"Mishquat\", 20, True]\n",
    "# <-                    \n",
    "\n",
    "print(names)\n",
    "names.insert(0,\"Malik Azmat Hussain\")  # inserting on a perticular position \n",
    "print(names)"
   ]
  },
  {
   "cell_type": "code",
   "execution_count": 35,
   "metadata": {},
   "outputs": [
    {
     "name": "stdout",
     "output_type": "stream",
     "text": [
      "['Amjad', 'Memoona', 'Fatima', 'Ehtesham', 'Mishquat']\n"
     ]
    }
   ],
   "source": [
    "names : list[str] =['Amjad','Memoona']\n",
    "\n",
    "names.append(\"Fatima\") # Added in the last\n",
    "names.append(\"Ehtesham\") # added in the last\n",
    "names.append(\"Mishquat\")\n",
    "\n",
    "print(names)"
   ]
  },
  {
   "cell_type": "code",
   "execution_count": 36,
   "metadata": {},
   "outputs": [
    {
     "name": "stdout",
     "output_type": "stream",
     "text": [
      "['a', 'b']\n",
      "['a', 'b']\n"
     ]
    }
   ],
   "source": [
    "a : list[str] =['a','b']\n",
    "\n",
    "b = a\n",
    "\n",
    "print(a)\n",
    "print(b)"
   ]
  },
  {
   "cell_type": "code",
   "execution_count": 40,
   "metadata": {},
   "outputs": [
    {
     "name": "stdout",
     "output_type": "stream",
     "text": [
      "['a', 'b', 'c']\n",
      "['a', 'b', 'c']\n",
      "['Pakistan', 'b', 'c']\n",
      "['Pakistan', 'b', 'c']\n"
     ]
    }
   ],
   "source": [
    "a : list[str] =['a','b','c']\n",
    "\n",
    "b = a #shallow copy\n",
    "\n",
    "print(a)\n",
    "print(b)\n",
    "\n",
    "b[0]=\"Pakistan\"     #wanted to update only \"b\" variable, but both updated\n",
    "\n",
    "print(a)\n",
    "print(b)"
   ]
  },
  {
   "cell_type": "code",
   "execution_count": 42,
   "metadata": {},
   "outputs": [
    {
     "name": "stdout",
     "output_type": "stream",
     "text": [
      "['a', 'b', 'c']\n",
      "['a', 'b', 'c']\n",
      "['a', 'b', 'c']\n",
      "['Pakistan', 'b', 'c']\n"
     ]
    }
   ],
   "source": [
    "a : list[str] =['a','b','c']\n",
    "\n",
    "b=a.copy() #shallow copy\n",
    "\n",
    "print(a)\n",
    "print(b)\n",
    "\n",
    "b[0]=\"Pakistan\"     \n",
    "\n",
    "print(a)\n",
    "print(b)"
   ]
  },
  {
   "cell_type": "code",
   "execution_count": 46,
   "metadata": {},
   "outputs": [
    {
     "name": "stdout",
     "output_type": "stream",
     "text": [
      "2\n",
      "3\n"
     ]
    }
   ],
   "source": [
    "# count\n",
    "names : list[str] = ['a','a','a','b','c','c']\n",
    "print(names.count(\"c\"))\n",
    "print(names.count(\"a\"))"
   ]
  },
  {
   "cell_type": "code",
   "execution_count": 48,
   "metadata": {},
   "outputs": [
    {
     "data": {
      "text/plain": [
       "['Amjad', 'Memoona', ['Ehtesham', 'Fatima']]"
      ]
     },
     "execution_count": 48,
     "metadata": {},
     "output_type": "execute_result"
    }
   ],
   "source": [
    "names : list[str] =['Amjad','Memoona']\n",
    "new_group_members : list[str] = ['Ehtesham',\"Fatima\"]\n",
    "\n",
    "names.append(new_group_members)\n",
    "\n",
    "names"
   ]
  },
  {
   "cell_type": "code",
   "execution_count": 49,
   "metadata": {},
   "outputs": [
    {
     "data": {
      "text/plain": [
       "['Amjad', 'Memoona', 'Ehtesham', 'Fatima']"
      ]
     },
     "execution_count": 49,
     "metadata": {},
     "output_type": "execute_result"
    }
   ],
   "source": [
    "names : list[str] =['Amjad','Memoona']\n",
    "new_group_members : list[str] = ['Ehtesham',\"Fatima\"]\n",
    "\n",
    "names.extend(new_group_members)\n",
    "\n",
    "names"
   ]
  },
  {
   "cell_type": "code",
   "execution_count": 53,
   "metadata": {},
   "outputs": [
    {
     "data": {
      "text/plain": [
       "['Amjad', 20, True]"
      ]
     },
     "execution_count": 53,
     "metadata": {},
     "output_type": "execute_result"
    }
   ],
   "source": [
    "names : list[Any] = [\"Amjad\",\"Fatima Zahra\", \"M Ehtesham ul Hassan Malik\",\"Mishquat\", 20, True]\n",
    "\n",
    "\n",
    "del names [1:4]\n",
    "\n",
    "names"
   ]
  },
  {
   "cell_type": "code",
   "execution_count": 55,
   "metadata": {},
   "outputs": [
    {
     "data": {
      "text/plain": [
       "['Fatima Zahra', 'M Ehtesham ul Hassan Malik', 'Mishquat', 20, True]"
      ]
     },
     "execution_count": 55,
     "metadata": {},
     "output_type": "execute_result"
    }
   ],
   "source": [
    "names : list[Any] = [\"Amjad\",\"Fatima Zahra\", \"M Ehtesham ul Hassan Malik\",\"Mishquat\", 20, True]\n",
    "\n",
    "\n",
    "names.remove(\"Amjad\") #remove with text values\n",
    "\n",
    "names"
   ]
  },
  {
   "cell_type": "code",
   "execution_count": 56,
   "metadata": {},
   "outputs": [
    {
     "data": {
      "text/plain": [
       "3"
      ]
     },
     "execution_count": 56,
     "metadata": {},
     "output_type": "execute_result"
    }
   ],
   "source": [
    "names : list[Any] = [\"Amjad\",\"Fatima Zahra\", \"M Ehtesham ul Hassan Malik\",\"Mishquat\", 20, True]\n",
    "\n",
    "\n",
    "\n",
    "names.index(\"Mishquat\")"
   ]
  },
  {
   "cell_type": "code",
   "execution_count": 58,
   "metadata": {},
   "outputs": [
    {
     "name": "stdout",
     "output_type": "stream",
     "text": [
      "[True, 20, 'Mishquat', 'M Ehtesham ul Hassan Malik', 'Fatima Zahra', 'Amjad']\n"
     ]
    }
   ],
   "source": [
    "names : list[Any] = [\"Amjad\",\"Fatima Zahra\", \"M Ehtesham ul Hassan Malik\",\"Mishquat\", 20, True]\n",
    "\n",
    "names.reverse()\n",
    "print(names)"
   ]
  },
  {
   "cell_type": "code",
   "execution_count": 63,
   "metadata": {},
   "outputs": [
    {
     "name": "stdout",
     "output_type": "stream",
     "text": [
      "['A', 'B', 'C', 'D', 'E', 'F']\n",
      "['F', 'E', 'D', 'C', 'B', 'A']\n"
     ]
    }
   ],
   "source": [
    "names : list[str] = list(\"ABCDEF\")\n",
    "\n",
    "print(names)\n",
    "\n",
    "names.reverse()\n",
    "\n",
    "print(names)"
   ]
  },
  {
   "cell_type": "code",
   "execution_count": 64,
   "metadata": {},
   "outputs": [
    {
     "name": "stdout",
     "output_type": "stream",
     "text": [
      "['A', 'B', 'C', 'D', 'E', 'F']\n",
      "['F', 'E', 'D', 'C', 'B', 'A']\n"
     ]
    }
   ],
   "source": [
    "names : list[str] = list(\"ABCDEF\")\n",
    "print(names)\n",
    "names.sort(reverse=True)\n",
    "print(names)"
   ]
  },
  {
   "cell_type": "code",
   "execution_count": 65,
   "metadata": {},
   "outputs": [
    {
     "name": "stdout",
     "output_type": "stream",
     "text": [
      "6\n"
     ]
    }
   ],
   "source": [
    "names : list[str] = list(\"ABCDEF\")\n",
    "print(len(names))"
   ]
  }
 ],
 "metadata": {
  "kernelspec": {
   "display_name": "Python12",
   "language": "python",
   "name": "python3"
  },
  "language_info": {
   "codemirror_mode": {
    "name": "ipython",
    "version": 3
   },
   "file_extension": ".py",
   "mimetype": "text/x-python",
   "name": "python",
   "nbconvert_exporter": "python",
   "pygments_lexer": "ipython3",
   "version": "3.12.0"
  }
 },
 "nbformat": 4,
 "nbformat_minor": 2
}
