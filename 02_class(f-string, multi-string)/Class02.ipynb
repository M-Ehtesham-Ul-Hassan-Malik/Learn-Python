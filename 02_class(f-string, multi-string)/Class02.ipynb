{
 "cells": [
  {
   "cell_type": "code",
   "execution_count": 31,
   "metadata": {},
   "outputs": [
    {
     "name": "stdout",
     "output_type": "stream",
     "text": [
      "Name\n"
     ]
    }
   ],
   "source": [
    "print(\"Name\")"
   ]
  },
  {
   "cell_type": "code",
   "execution_count": 32,
   "metadata": {},
   "outputs": [
    {
     "name": "stdout",
     "output_type": "stream",
     "text": [
      "M eHteSHaM uL hASsaN MaLiK\n"
     ]
    }
   ],
   "source": [
    "print (name)"
   ]
  },
  {
   "cell_type": "code",
   "execution_count": 33,
   "metadata": {},
   "outputs": [
    {
     "name": "stdout",
     "output_type": "stream",
     "text": [
      "M Ehtesham Ul Hassan Malik\n"
     ]
    }
   ],
   "source": [
    "name: str = \"M Ehtesham Ul Hassan Malik\"\n",
    "print(name)"
   ]
  },
  {
   "cell_type": "markdown",
   "metadata": {},
   "source": [
    "# String Data type in python"
   ]
  },
  {
   "cell_type": "code",
   "execution_count": 34,
   "metadata": {},
   "outputs": [
    {
     "name": "stdout",
     "output_type": "stream",
     "text": [
      "<class 'str'>\n",
      "M Ehtesham Ul Hassan Malik\n"
     ]
    }
   ],
   "source": [
    "# boundries\n",
    "# 'string text', \"string text \", '''string text''', \"\"\" string\"\"\"\n",
    "\n",
    "name : str = \"M Ehtesham Ul Hassan Malik\"\n",
    "print(type(name))\n",
    "print(name)"
   ]
  },
  {
   "cell_type": "code",
   "execution_count": 35,
   "metadata": {},
   "outputs": [
    {
     "name": "stdout",
     "output_type": "stream",
     "text": [
      "<class 'str'>\n",
      "M Ehtesham Ul Hassan Malik\n"
     ]
    }
   ],
   "source": [
    "# boundries\n",
    "# 'string text', \"string text \", '''string text''', \"\"\" string\"\"\"\n",
    "\n",
    "name : str = 'M Ehtesham Ul Hassan Malik'\n",
    "print(type(name))\n",
    "print(name)"
   ]
  },
  {
   "cell_type": "code",
   "execution_count": 36,
   "metadata": {},
   "outputs": [
    {
     "ename": "SyntaxError",
     "evalue": "unterminated string literal (detected at line 1) (3623815829.py, line 1)",
     "output_type": "error",
     "traceback": [
      "\u001b[1;36m  Cell \u001b[1;32mIn[36], line 1\u001b[1;36m\u001b[0m\n\u001b[1;33m    message : str = 'University Student Card \\n father's Name'\u001b[0m\n\u001b[1;37m                                                             ^\u001b[0m\n\u001b[1;31mSyntaxError\u001b[0m\u001b[1;31m:\u001b[0m unterminated string literal (detected at line 1)\n"
     ]
    }
   ],
   "source": [
    "message : str = 'University Student Card \\n father's Name'\n",
    "print(message)"
   ]
  },
  {
   "cell_type": "code",
   "execution_count": null,
   "metadata": {},
   "outputs": [
    {
     "name": "stdout",
     "output_type": "stream",
     "text": [
      "University Student Card \n",
      " father's Name\n"
     ]
    }
   ],
   "source": [
    "message : str = \"University Student Card \\n father's Name\"\n",
    "print(message)"
   ]
  },
  {
   "cell_type": "code",
   "execution_count": null,
   "metadata": {},
   "outputs": [
    {
     "name": "stdout",
     "output_type": "stream",
     "text": [
      "University Student Card \n",
      " father Name\n"
     ]
    }
   ],
   "source": [
    "message : str = 'University Student Card \\n father Name'\n",
    "print(message)"
   ]
  },
  {
   "cell_type": "code",
   "execution_count": null,
   "metadata": {},
   "outputs": [
    {
     "name": "stdout",
     "output_type": "stream",
     "text": [
      "University Student Card \n",
      " father's Name\n",
      "Pakistan's largest city is Karachi\n"
     ]
    }
   ],
   "source": [
    "# convert any special character into simple character, place \\ before character\n",
    "message : str = 'University Student Card \\n father\\'s Name'\n",
    "message2 : str = \"Pakistan\\'s largest city is Karachi\"\n",
    "print(message)\n",
    "print(message2)"
   ]
  },
  {
   "cell_type": "code",
   "execution_count": null,
   "metadata": {},
   "outputs": [
    {
     "data": {
      "text/plain": [
       "'abc'"
      ]
     },
     "execution_count": 10,
     "metadata": {},
     "output_type": "execute_result"
    }
   ],
   "source": [
    "\"a\" + \"b\" + \"c\"\n"
   ]
  },
  {
   "cell_type": "code",
   "execution_count": null,
   "metadata": {},
   "outputs": [
    {
     "data": {
      "text/plain": [
       "'a7'"
      ]
     },
     "execution_count": 11,
     "metadata": {},
     "output_type": "execute_result"
    }
   ],
   "source": [
    "\"a\" + \"7\""
   ]
  },
  {
   "cell_type": "code",
   "execution_count": null,
   "metadata": {},
   "outputs": [
    {
     "ename": "TypeError",
     "evalue": "can only concatenate str (not \"int\") to str",
     "output_type": "error",
     "traceback": [
      "\u001b[1;31m---------------------------------------------------------------------------\u001b[0m",
      "\u001b[1;31mTypeError\u001b[0m                                 Traceback (most recent call last)",
      "Cell \u001b[1;32mIn[12], line 9\u001b[0m\n\u001b[0;32m      6\u001b[0m education : \u001b[38;5;28mstr\u001b[39m \u001b[38;5;241m=\u001b[39m \u001b[38;5;124m\"\u001b[39m\u001b[38;5;124mBS in Software Engineering\u001b[39m\u001b[38;5;124m\"\u001b[39m\n\u001b[0;32m      7\u001b[0m age : \u001b[38;5;28mint\u001b[39m \u001b[38;5;241m=\u001b[39m \u001b[38;5;241m20\u001b[39m\n\u001b[1;32m----> 9\u001b[0m card : \u001b[38;5;28mstr\u001b[39m \u001b[38;5;241m=\u001b[39m \u001b[38;5;124;43m\"\u001b[39;49m\u001b[38;5;124;43mUniversity Student Card\u001b[39;49m\u001b[38;5;130;43;01m\\n\u001b[39;49;00m\u001b[38;5;124;43mStudent Name: \u001b[39;49m\u001b[38;5;124;43m\"\u001b[39;49m\u001b[43m \u001b[49m\u001b[38;5;241;43m+\u001b[39;49m\u001b[43m \u001b[49m\u001b[43mname\u001b[49m\u001b[43m \u001b[49m\u001b[38;5;241;43m+\u001b[39;49m\u001b[43m \u001b[49m\u001b[38;5;124;43m\"\u001b[39;49m\u001b[38;5;130;43;01m\\n\u001b[39;49;00m\u001b[38;5;124;43mAge:\u001b[39;49m\u001b[38;5;124;43m\"\u001b[39;49m\u001b[43m \u001b[49m\u001b[38;5;241;43m+\u001b[39;49m\u001b[43m \u001b[49m\u001b[43mage\u001b[49m\n\u001b[0;32m     11\u001b[0m \u001b[38;5;28mprint\u001b[39m(card)\n",
      "\u001b[1;31mTypeError\u001b[0m: can only concatenate str (not \"int\") to str"
     ]
    }
   ],
   "source": [
    "# boundries\n",
    "# 'string text', \"string text \", '''string text''', \"\"\" string\"\"\"\n",
    "\n",
    "name : str = 'M Ehtesham Ul Hassan Malik'\n",
    "fname : str = \"Malik Azmat Hussain\"\n",
    "education : str = \"BS in Software Engineering\"\n",
    "age : int = 20\n",
    "\n",
    "card : str = \"University Student Card\\nStudent Name: \" + name + \"\\nAge:\" + age\n",
    "\n",
    "print(card)"
   ]
  },
  {
   "cell_type": "code",
   "execution_count": null,
   "metadata": {},
   "outputs": [
    {
     "name": "stdout",
     "output_type": "stream",
     "text": [
      "University Student Card\n",
      "Student Name: M Ehtesham Ul Hassan Malik\n",
      "Age:20\n"
     ]
    }
   ],
   "source": [
    "# boundries\n",
    "# 'string text', \"string text \", '''string text''', \"\"\" string\"\"\"\n",
    "\n",
    "name : str = 'M Ehtesham Ul Hassan Malik'\n",
    "fname : str = \"Malik Azmat Hussain\"\n",
    "education : str = \"BS in Software Engineering\"\n",
    "age : int = 20\n",
    "\n",
    "card : str = \"University Student Card\\nStudent Name: \" + name + \"\\nAge:\" + str(age)\n",
    "\n",
    "print(card)"
   ]
  },
  {
   "cell_type": "code",
   "execution_count": null,
   "metadata": {},
   "outputs": [
    {
     "name": "stdout",
     "output_type": "stream",
     "text": [
      "17\n"
     ]
    }
   ],
   "source": [
    "print(7 + 8 + 2)"
   ]
  },
  {
   "cell_type": "code",
   "execution_count": null,
   "metadata": {},
   "outputs": [
    {
     "name": "stdout",
     "output_type": "stream",
     "text": [
      "University Student Card\n",
      "Student Name: M Ehtesham Ul Hassan Malik\n",
      "Age:20\n",
      "Education: BS in Software Engineering\n"
     ]
    }
   ],
   "source": [
    "# boundries\n",
    "# 'string text', \"string text \", '''string text''', \"\"\" string\"\"\"\n",
    "\n",
    "name : str = 'M Ehtesham Ul Hassan Malik'\n",
    "fname : str = \"Malik Azmat Hussain\"\n",
    "education : str = \"BS in Software Engineering\"\n",
    "age : int = 20\n",
    "\n",
    "card : str = \"University Student Card\\nStudent Name: \" + name +\\\n",
    "\"\\nAge:\" + str(age)+ \"\\n\"+\\\n",
    "\"Education: \" + education\n",
    "\n",
    "\n",
    "print(card)"
   ]
  },
  {
   "cell_type": "markdown",
   "metadata": {},
   "source": [
    "# Defining Multiline String"
   ]
  },
  {
   "cell_type": "code",
   "execution_count": null,
   "metadata": {},
   "outputs": [
    {
     "name": "stdout",
     "output_type": "stream",
     "text": [
      "\n",
      "University Student Card\n",
      "Student Name : \n",
      "Father's Name: \n",
      "Age: ......\n",
      "Education: .....\n",
      "\n"
     ]
    }
   ],
   "source": [
    "name : str = 'M Ehtesham Ul Hassan Malik'\n",
    "fname : str = \"Malik Azmat Hussain\"\n",
    "education : str = \"BS in Software Engineering\"\n",
    "age : int = 20\n",
    "\n",
    "card: str = \"\"\"\n",
    "University Student Card\n",
    "Student Name : \n",
    "Father's Name: \n",
    "Age: ......\n",
    "Education: .....\n",
    "\"\"\" \n",
    "print(card)"
   ]
  },
  {
   "cell_type": "markdown",
   "metadata": {},
   "source": [
    "# F-String Python"
   ]
  },
  {
   "cell_type": "code",
   "execution_count": null,
   "metadata": {},
   "outputs": [
    {
     "name": "stdout",
     "output_type": "stream",
     "text": [
      "\n",
      "University Student Card\n",
      "Student Name: M Ehtesham Ul Hassan Malik\n",
      "Father Name: Malik Azmat Hussain\n",
      "Age: 20\n",
      "Education: BS in Software Engineering\n",
      "\n"
     ]
    }
   ],
   "source": [
    "name : str = 'M Ehtesham Ul Hassan Malik'\n",
    "fname : str = \"Malik Azmat Hussain\"\n",
    "education : str = \"BS in Software Engineering\"\n",
    "age : int = 20\n",
    "\n",
    "card: str = f\"\"\"\n",
    "University Student Card\n",
    "Student Name: {name}\n",
    "Father Name: {fname}\n",
    "Age: {age}\n",
    "Education: {education}\n",
    "\"\"\"\n",
    "\n",
    "print(card)"
   ]
  },
  {
   "cell_type": "code",
   "execution_count": null,
   "metadata": {},
   "outputs": [
    {
     "name": "stdout",
     "output_type": "stream",
     "text": [
      "\n",
      "University Student Card\n",
      "Student Name: M Ehtesham Ul Hassan Malik\n",
      "Father Name: Malik Azmat Hussain\n",
      "Age: 20\n",
      "Education: BS in Software Engineering\n",
      "\n"
     ]
    }
   ],
   "source": [
    "name : str = 'M Ehtesham Ul Hassan Malik'\n",
    "fname : str = \"Malik Azmat Hussain\"\n",
    "education : str = \"BS in Software Engineering\"\n",
    "age : int = 20\n",
    "\n",
    "card: str = f'''\n",
    "University Student Card\n",
    "Student Name: {name}\n",
    "Father Name: {fname}\n",
    "Age: {age}\n",
    "Education: {education}\n",
    "'''\n",
    "print(card)"
   ]
  },
  {
   "cell_type": "code",
   "execution_count": null,
   "metadata": {},
   "outputs": [
    {
     "name": "stdout",
     "output_type": "stream",
     "text": [
      "\n",
      "University Student Card\n",
      "Student Name: M Ehtesham Ul Hassan Malik\n",
      "Father Name: Malik Azmat Hussain\n",
      "Age: 20\n",
      "Education: BS in Software Engineering\n",
      "\n",
      "Total 27\n",
      "\n"
     ]
    }
   ],
   "source": [
    "name : str = 'M Ehtesham Ul Hassan Malik'\n",
    "fname : str = \"Malik Azmat Hussain\"\n",
    "education : str = \"BS in Software Engineering\"\n",
    "age : int = 20\n",
    "\n",
    "card: str = f'''\n",
    "University Student Card\n",
    "Student Name: {name}\n",
    "Father Name: {fname}\n",
    "Age: {age}\n",
    "Education: {education}\n",
    "\n",
    "Total {7+9+11}\n",
    "'''\n",
    "print(card)"
   ]
  },
  {
   "cell_type": "markdown",
   "metadata": {},
   "source": [
    "# F-string and Jinja style\n"
   ]
  },
  {
   "cell_type": "code",
   "execution_count": null,
   "metadata": {},
   "outputs": [],
   "source": [
    "# f String style/format\n",
    "f\"\"\"\n",
    "student name {name}\n",
    "\"\"\""
   ]
  },
  {
   "cell_type": "code",
   "execution_count": null,
   "metadata": {},
   "outputs": [],
   "source": [
    "# Jinja Style/format\n",
    "\"\"\"\n",
    "student name {{name}}\n",
    "\"\"\""
   ]
  },
  {
   "cell_type": "code",
   "execution_count": null,
   "metadata": {},
   "outputs": [
    {
     "name": "stdout",
     "output_type": "stream",
     "text": [
      "\n",
      "University Student Card\n",
      "Student Name: M Ehtesham Ul Hassan Malik\n",
      "Father Name: Malik Azmat Hussain\n",
      "Age: 20\n",
      "Education: BS in Software Engineering\n",
      "\n"
     ]
    }
   ],
   "source": [
    "name : str = 'M Ehtesham Ul Hassan Malik'\n",
    "fname : str = \"Malik Azmat Hussain\"\n",
    "education : str = \"BS in Software Engineering\"\n",
    "age : int = 20\n",
    "\n",
    "card: str = '''\n",
    "University Student Card\n",
    "Student Name: %s\n",
    "Father Name: %s\n",
    "Age: %d\n",
    "Education: %s\n",
    "''' % (name, fname, age, education)\n",
    "print(card)"
   ]
  },
  {
   "cell_type": "code",
   "execution_count": null,
   "metadata": {},
   "outputs": [
    {
     "data": {
      "text/plain": [
       "['capitalize',\n",
       " 'casefold',\n",
       " 'center',\n",
       " 'count',\n",
       " 'encode',\n",
       " 'endswith',\n",
       " 'expandtabs',\n",
       " 'find',\n",
       " 'format',\n",
       " 'format_map',\n",
       " 'index',\n",
       " 'isalnum',\n",
       " 'isalpha',\n",
       " 'isascii',\n",
       " 'isdecimal',\n",
       " 'isdigit',\n",
       " 'isidentifier',\n",
       " 'islower',\n",
       " 'isnumeric',\n",
       " 'isprintable',\n",
       " 'isspace',\n",
       " 'istitle',\n",
       " 'isupper',\n",
       " 'join',\n",
       " 'ljust',\n",
       " 'lower',\n",
       " 'lstrip',\n",
       " 'maketrans',\n",
       " 'partition',\n",
       " 'removeprefix',\n",
       " 'removesuffix',\n",
       " 'replace',\n",
       " 'rfind',\n",
       " 'rindex',\n",
       " 'rjust',\n",
       " 'rpartition',\n",
       " 'rsplit',\n",
       " 'rstrip',\n",
       " 'split',\n",
       " 'splitlines',\n",
       " 'startswith',\n",
       " 'strip',\n",
       " 'swapcase',\n",
       " 'title',\n",
       " 'translate',\n",
       " 'upper',\n",
       " 'zfill']"
      ]
     },
     "execution_count": 21,
     "metadata": {},
     "output_type": "execute_result"
    }
   ],
   "source": [
    "[i for i in dir(str) if \"__\" not in i]"
   ]
  },
  {
   "cell_type": "code",
   "execution_count": null,
   "metadata": {},
   "outputs": [
    {
     "data": {
      "text/plain": [
       "'pakistan value a = 7 and value b = 8'"
      ]
     },
     "execution_count": 22,
     "metadata": {},
     "output_type": "execute_result"
    }
   ],
   "source": [
    "a = 7\n",
    "b = 8\n",
    "# {} place holder\n",
    "#                   0                1          0 1\n",
    "\"pakistan value a = {} and value b = {}\".format(a,b)"
   ]
  },
  {
   "cell_type": "code",
   "execution_count": null,
   "metadata": {},
   "outputs": [
    {
     "name": "stdout",
     "output_type": "stream",
     "text": [
      "M ehtesham ul hassan malik\n",
      "m ehtesham ul hassan malik\n",
      "M EHTESHAM UL HASSAN MALIK\n",
      "<built-in method count of str object at 0x0000024B13B61B60>\n"
     ]
    }
   ],
   "source": [
    "name: str = \"M Ehtesham Ul Hassan Malik\"\n",
    "print(name.capitalize())\n",
    "print(name.lower())\n",
    "print(name.upper())\n",
    "print(name.count)"
   ]
  },
  {
   "cell_type": "code",
   "execution_count": null,
   "metadata": {},
   "outputs": [
    {
     "name": "stdout",
     "output_type": "stream",
     "text": [
      "\n",
      "University Student Card\n",
      "Student Name: Malik Azmat Hussain\n",
      "Father Name: M Ehtesham Ul Hassan Malik\n",
      "Age: BS in Software Engineering\n",
      "Education: 20\n",
      "\n"
     ]
    }
   ],
   "source": [
    "name : str = 'M Ehtesham Ul Hassan Malik'\n",
    "fname : str = \"Malik Azmat Hussain\"\n",
    "education : str = \"BS in Software Engineering\"\n",
    "age : int = 20\n",
    "\n",
    "card: str = '''\n",
    "University Student Card\n",
    "Student Name: {}\n",
    "Father Name: {}\n",
    "Age: {}\n",
    "Education: {}\n",
    "'''.format(fname, name, education, age)     #wrong format can damage our data \n",
    "print(card)"
   ]
  },
  {
   "cell_type": "code",
   "execution_count": null,
   "metadata": {},
   "outputs": [
    {
     "name": "stdout",
     "output_type": "stream",
     "text": [
      "\n",
      "University Student Card\n",
      "Student Name: M Ehtesham Ul Hassan Malik\n",
      "Father Name: Malik Azmat Hussain\n",
      "Age: 20\n",
      "Education: BS in Software Engineering\n",
      "\n"
     ]
    }
   ],
   "source": [
    "name : str = 'M Ehtesham Ul Hassan Malik'\n",
    "fname : str = \"Malik Azmat Hussain\"\n",
    "education : str = \"BS in Software Engineering\"\n",
    "age : int = 20\n",
    "\n",
    "card: str = '''\n",
    "University Student Card\n",
    "Student Name: {1}\n",
    "Father Name: {0}\n",
    "Age: {3}\n",
    "Education: {2}\n",
    "'''.format(fname, name, education, age)     #indexing takes too much time for large set of data\n",
    "print(card)"
   ]
  },
  {
   "cell_type": "code",
   "execution_count": null,
   "metadata": {},
   "outputs": [
    {
     "name": "stdout",
     "output_type": "stream",
     "text": [
      "\n",
      "University Student Card\n",
      "Student Name: M Ehtesham Ul Hassan Malik\n",
      "Father Name: Malik Azmat Hussain\n",
      "Age: 20\n",
      "Education: BS in Software Engineering\n",
      "\n"
     ]
    }
   ],
   "source": [
    "name : str = 'M Ehtesham Ul Hassan Malik'\n",
    "fname : str = \"Malik Azmat Hussain\"\n",
    "education : str = \"BS in Software Engineering\"\n",
    "age : int = 20\n",
    "\n",
    "card: str = '''\n",
    "University Student Card\n",
    "Student Name: {a}\n",
    "Father Name: {b}\n",
    "Age: {c}\n",
    "Education: {d}\n",
    "'''.format(a=name, b=fname, c=age, d=education)     \n",
    "print(card)"
   ]
  },
  {
   "cell_type": "markdown",
   "metadata": {},
   "source": [
    "# Recommended below two f-String format"
   ]
  },
  {
   "cell_type": "code",
   "execution_count": null,
   "metadata": {},
   "outputs": [
    {
     "name": "stdout",
     "output_type": "stream",
     "text": [
      "\n",
      "University Student Card\n",
      "Student Name: M Ehtesham Ul Hassan Malik\n",
      "Father Name: Malik Azmat Hussain\n",
      "Age: 20\n",
      "Education: BS in Software Engineering\n",
      "\n"
     ]
    }
   ],
   "source": [
    "name : str = 'M Ehtesham Ul Hassan Malik'\n",
    "fname : str = \"Malik Azmat Hussain\"\n",
    "education : str = \"BS in Software Engineering\"\n",
    "age : int = 20\n",
    "\n",
    "card: str = f'''\n",
    "University Student Card\n",
    "Student Name: {name}\n",
    "Father Name: {fname}\n",
    "Age: {age}\n",
    "Education: {education}\n",
    "'''\n",
    "print(card)"
   ]
  },
  {
   "cell_type": "code",
   "execution_count": null,
   "metadata": {},
   "outputs": [
    {
     "name": "stdout",
     "output_type": "stream",
     "text": [
      "My Name is M Ehtesham Ul Hassan Malik\n",
      "15\n"
     ]
    }
   ],
   "source": [
    "student_code : str = \"\"\"\n",
    "print(\"My Name is M Ehtesham Ul Hassan Malik\")\n",
    "a:int = 7\n",
    "b:int = 8\n",
    "print(a + b)\n",
    "\"\"\"\n",
    "\n",
    "exec(student_code)"
   ]
  },
  {
   "cell_type": "markdown",
   "metadata": {},
   "source": [
    "# Explore String methods and attributes\n",
    "pre-define global function we have used\n",
    "* print\n",
    "* type\n",
    "* id\n",
    "* dir\n",
    "* len\n"
   ]
  },
  {
   "cell_type": "code",
   "execution_count": null,
   "metadata": {},
   "outputs": [
    {
     "name": "stdout",
     "output_type": "stream",
     "text": [
      "['capitalize', 'casefold', 'center', 'count', 'encode', 'endswith', 'expandtabs', 'find', 'format', 'format_map', 'index', 'isalnum', 'isalpha', 'isascii', 'isdecimal', 'isdigit', 'isidentifier', 'islower', 'isnumeric', 'isprintable', 'isspace', 'istitle', 'isupper', 'join', 'ljust', 'lower', 'lstrip', 'maketrans', 'partition', 'removeprefix', 'removesuffix', 'replace', 'rfind', 'rindex', 'rjust', 'rpartition', 'rsplit', 'rstrip', 'split', 'splitlines', 'startswith', 'strip', 'swapcase', 'title', 'translate', 'upper', 'zfill']\n",
      "47\n"
     ]
    }
   ],
   "source": [
    "a: list[str] = [i for i in dir(str) if \"__\" not in i]\n",
    "print(a)\n",
    "print(len(a))"
   ]
  },
  {
   "cell_type": "code",
   "execution_count": null,
   "metadata": {},
   "outputs": [
    {
     "name": "stdout",
     "output_type": "stream",
     "text": [
      "M eHteSHaM uL hASsaN MaLiK\n",
      "M ehtesham ul hassan malik\n",
      "m ehtesham ul hassan malik\n",
      "M EHTESHAM UL HASSAN MALIK\n",
      "m ehtesham ul hassan malik\n"
     ]
    },
    {
     "data": {
      "text/plain": [
       "'M eHteSHaM uL hASsaN MaLiK'"
      ]
     },
     "metadata": {},
     "output_type": "display_data"
    },
    {
     "data": {
      "text/plain": [
       "['M', 'eHteSHaM', 'uL', 'hASsaN', 'MaLiK']"
      ]
     },
     "metadata": {},
     "output_type": "display_data"
    },
    {
     "data": {
      "text/plain": [
       "'M eHteSHaM uL hASsaN MaLiK'"
      ]
     },
     "metadata": {},
     "output_type": "display_data"
    },
    {
     "data": {
      "text/plain": [
       "['M', 'eHteSHaM', 'uL', 'hASsaN', 'MaLiK']"
      ]
     },
     "metadata": {},
     "output_type": "display_data"
    },
    {
     "data": {
      "text/plain": [
       "'M Ehtesham Ul Hassan Malik'"
      ]
     },
     "metadata": {},
     "output_type": "display_data"
    }
   ],
   "source": [
    "name : str = \"M eHteSHaM uL hASsaN MaLiK\"\n",
    "\n",
    "#variable_name.method()\n",
    "print(name)\n",
    "print(name.capitalize())\n",
    "print(name.casefold())\n",
    "print(name.upper())\n",
    "print(name.lower())\n",
    "\n",
    "display(name)\n",
    "display(name.rsplit())\n",
    "display(name.strip())\n",
    "display(name.split())\n",
    "display(name.title())\n"
   ]
  }
 ],
 "metadata": {
  "kernelspec": {
   "display_name": "Python12",
   "language": "python",
   "name": "python3"
  },
  "language_info": {
   "codemirror_mode": {
    "name": "ipython",
    "version": 3
   },
   "file_extension": ".py",
   "mimetype": "text/x-python",
   "name": "python",
   "nbconvert_exporter": "python",
   "pygments_lexer": "ipython3",
   "version": "3.12.0"
  }
 },
 "nbformat": 4,
 "nbformat_minor": 2
}
