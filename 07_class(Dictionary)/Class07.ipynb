{
 "cells": [
  {
   "cell_type": "code",
   "execution_count": 7,
   "metadata": {},
   "outputs": [
    {
     "name": "stdout",
     "output_type": "stream",
     "text": [
      "Ahmed\n"
     ]
    }
   ],
   "source": [
    "#list                  0          1             2\n",
    "data : list[str] = [\"Ahmed\",\"Abdul Razzaq\", \"Matric\"]\n",
    "print(data[0])"
   ]
  },
  {
   "cell_type": "code",
   "execution_count": 11,
   "metadata": {},
   "outputs": [
    {
     "name": "stdout",
     "output_type": "stream",
     "text": [
      "{1, 2, 3, 4}\n"
     ]
    }
   ],
   "source": [
    "#set\n",
    "data : list[str] = {3,2,1,4,4,4,2,1,1,3}\n",
    "print(data) #return unique"
   ]
  },
  {
   "cell_type": "code",
   "execution_count": 14,
   "metadata": {},
   "outputs": [
    {
     "data": {
      "text/plain": [
       "['add',\n",
       " 'clear',\n",
       " 'copy',\n",
       " 'difference',\n",
       " 'difference_update',\n",
       " 'discard',\n",
       " 'intersection',\n",
       " 'intersection_update',\n",
       " 'isdisjoint',\n",
       " 'issubset',\n",
       " 'issuperset',\n",
       " 'pop',\n",
       " 'remove',\n",
       " 'symmetric_difference',\n",
       " 'symmetric_difference_update',\n",
       " 'union',\n",
       " 'update']"
      ]
     },
     "execution_count": 14,
     "metadata": {},
     "output_type": "execute_result"
    }
   ],
   "source": [
    "[i for i in dir(data) if \"__\" not in i]"
   ]
  },
  {
   "cell_type": "markdown",
   "metadata": {},
   "source": [
    "# Dictionary \n",
    "* Key : Value (items)\n",
    "    * key replacements of object\n",
    "    * value items\n",
    "\n",
    "* dict_variable [key]\n",
    "    * dict_variable [new_key] = new_value\n",
    "        * add new value\n",
    "        * update value"
   ]
  },
  {
   "cell_type": "code",
   "execution_count": 3,
   "metadata": {},
   "outputs": [
    {
     "data": {
      "text/plain": [
       "{'Name': 'Ahmed', \"F'Name\": 'Abdul Razzaq', 'Education': 'Matric'}"
      ]
     },
     "metadata": {},
     "output_type": "display_data"
    }
   ],
   "source": [
    "from typing import Dict\n",
    "\n",
    "data : Dict[str, str] = {\"Name\":\"Ahmed\",\n",
    "                        \"F'Name\":\"Abdul Razzaq\",\n",
    "                        \"Education\":\"Matric\"\n",
    "                        }\n",
    "\n",
    "display(data)"
   ]
  },
  {
   "cell_type": "code",
   "execution_count": 6,
   "metadata": {},
   "outputs": [
    {
     "name": "stdout",
     "output_type": "stream",
     "text": [
      "{'Education': 'Matric', \"F'Name\": 'Abdul Razzaq', 'Name': 'Ahmed'}\n"
     ]
    }
   ],
   "source": [
    "from typing import Dict,Union\n",
    "import pprint\n",
    "Key = Union[int, str]\n",
    "Value = Union[int, str, set, dict, list, tuple]\n",
    "\n",
    "data : Dict[Key, Value] = {\"Name\":\"Ahmed\",\n",
    "                        \"F'Name\":\"Abdul Razzaq\",\n",
    "                        \"Education\":\"Matric\"\n",
    "                        }\n",
    "\n",
    "pprint.pprint(data)"
   ]
  },
  {
   "cell_type": "code",
   "execution_count": 9,
   "metadata": {},
   "outputs": [
    {
     "name": "stdout",
     "output_type": "stream",
     "text": [
      "{'Education': 'Matric', \"F'Name\": 'Abdul Razzaq', 'Name': 'Ahmed'}\n",
      "Ahmed\n",
      "Abdul Razzaq\n",
      "Matric\n"
     ]
    }
   ],
   "source": [
    "from typing import Dict,Union\n",
    "import pprint\n",
    "Key = Union[int, str]\n",
    "Value = Union[int, str, set, dict, list, tuple]\n",
    "\n",
    "data : Dict[Key, Value] = {\"Name\":\"Ahmed\",\n",
    "                        \"F'Name\":\"Abdul Razzaq\",\n",
    "                        \"Education\":\"Matric\"\n",
    "                        }\n",
    "\n",
    "pprint.pprint(data)\n",
    "print(data[\"Name\"])\n",
    "print(data[\"F'Name\"])\n",
    "print(data[\"Education\"])"
   ]
  },
  {
   "cell_type": "code",
   "execution_count": 10,
   "metadata": {},
   "outputs": [
    {
     "name": "stdout",
     "output_type": "stream",
     "text": [
      "{0: 'Pakistan',\n",
      " 'Education': 'Matric',\n",
      " \"F'Name\": 'Abdul Razzaq',\n",
      " 'Name': 'Ahmed'}\n",
      "Ahmed\n",
      "Abdul Razzaq\n",
      "Matric\n",
      "Pakistan\n"
     ]
    }
   ],
   "source": [
    "from typing import Dict,Union\n",
    "import pprint\n",
    "Key = Union[int, str]\n",
    "Value = Union[int, str, set, dict, list, tuple]\n",
    "\n",
    "data : Dict[Key, Value] = {\"Name\":\"Ahmed\",\n",
    "                        \"F'Name\":\"Abdul Razzaq\",\n",
    "                        \"Education\":\"Matric\",\n",
    "                        0:\"Pakistan\"\n",
    "                        }\n",
    "\n",
    "pprint.pprint(data)\n",
    "print(data[\"Name\"])\n",
    "print(data[\"F'Name\"])\n",
    "print(data[\"Education\"])\n",
    "print(data[0])  #here 0 is not an index, but a key "
   ]
  },
  {
   "cell_type": "code",
   "execution_count": 13,
   "metadata": {},
   "outputs": [
    {
     "ename": "TypeError",
     "evalue": "unhashable type: 'set'",
     "output_type": "error",
     "traceback": [
      "\u001b[1;31m---------------------------------------------------------------------------\u001b[0m",
      "\u001b[1;31mTypeError\u001b[0m                                 Traceback (most recent call last)",
      "Cell \u001b[1;32mIn[13], line 6\u001b[0m\n\u001b[0;32m      3\u001b[0m Key \u001b[38;5;241m=\u001b[39m Union[\u001b[38;5;28mint\u001b[39m, \u001b[38;5;28mstr\u001b[39m]\n\u001b[0;32m      4\u001b[0m Value \u001b[38;5;241m=\u001b[39m Union[\u001b[38;5;28mint\u001b[39m, \u001b[38;5;28mstr\u001b[39m, \u001b[38;5;28mset\u001b[39m, \u001b[38;5;28mdict\u001b[39m, \u001b[38;5;28mlist\u001b[39m, \u001b[38;5;28mtuple\u001b[39m]\n\u001b[1;32m----> 6\u001b[0m data : Dict[Key, Value] \u001b[38;5;241m=\u001b[39m {\u001b[38;5;124m\"\u001b[39m\u001b[38;5;124mName\u001b[39m\u001b[38;5;124m\"\u001b[39m:\u001b[38;5;124m\"\u001b[39m\u001b[38;5;124mAhmed\u001b[39m\u001b[38;5;124m\"\u001b[39m,\n\u001b[0;32m      7\u001b[0m                         \u001b[38;5;124m\"\u001b[39m\u001b[38;5;124mF\u001b[39m\u001b[38;5;124m'\u001b[39m\u001b[38;5;124mName\u001b[39m\u001b[38;5;124m\"\u001b[39m:\u001b[38;5;124m\"\u001b[39m\u001b[38;5;124mAbdul Razzaq\u001b[39m\u001b[38;5;124m\"\u001b[39m,\n\u001b[0;32m      8\u001b[0m                         \u001b[38;5;124m\"\u001b[39m\u001b[38;5;124mEducation\u001b[39m\u001b[38;5;124m\"\u001b[39m:\u001b[38;5;124m\"\u001b[39m\u001b[38;5;124mMatric\u001b[39m\u001b[38;5;124m\"\u001b[39m,\n\u001b[0;32m      9\u001b[0m                         \u001b[38;5;66;03m#[1,2,3]:\"Karachi\"\u001b[39;00m\n\u001b[0;32m     10\u001b[0m                         {\u001b[38;5;241m1\u001b[39m,\u001b[38;5;241m2\u001b[39m,\u001b[38;5;241m3\u001b[39m}:\u001b[38;5;124m\"\u001b[39m\u001b[38;5;124mPakistan\u001b[39m\u001b[38;5;124m\"\u001b[39m\n\u001b[0;32m     11\u001b[0m                         }\n\u001b[0;32m     13\u001b[0m pprint\u001b[38;5;241m.\u001b[39mpprint(data)\n\u001b[0;32m     14\u001b[0m \u001b[38;5;28mprint\u001b[39m(data[\u001b[38;5;124m\"\u001b[39m\u001b[38;5;124mName\u001b[39m\u001b[38;5;124m\"\u001b[39m])\n",
      "\u001b[1;31mTypeError\u001b[0m: unhashable type: 'set'"
     ]
    }
   ],
   "source": [
    "from typing import Dict,Union\n",
    "import pprint\n",
    "Key = Union[int, str]\n",
    "Value = Union[int, str, set, dict, list, tuple]\n",
    "\n",
    "data : Dict[Key, Value] = {\"Name\":\"Ahmed\",\n",
    "                        \"F'Name\":\"Abdul Razzaq\",\n",
    "                        \"Education\":\"Matric\",\n",
    "                        #[1,2,3]:\"Karachi\"      #error\n",
    "                        #{1,2,3}:\"Pakistan\"     #error\n",
    "                        }\n",
    "\n",
    "pprint.pprint(data)\n",
    "print(data[\"Name\"])\n",
    "print(data[\"F'Name\"])\n",
    "print(data[\"Education\"])"
   ]
  },
  {
   "cell_type": "code",
   "execution_count": 17,
   "metadata": {},
   "outputs": [
    {
     "name": "stdout",
     "output_type": "stream",
     "text": [
      "{'Education': 'Matric',\n",
      " \"F'Name\": 'Abdul Razzaq',\n",
      " 'Name': 'Ahmed',\n",
      " 'abc': {1, 2, 3},\n",
      " 'cde': ['pak', 'china', 23],\n",
      " 'efg': [23, 43, 12, 11]}\n",
      "Ahmed\n",
      "Abdul Razzaq\n",
      "Matric\n",
      "{1, 2, 3}\n"
     ]
    }
   ],
   "source": [
    "from typing import Dict,Union\n",
    "import pprint\n",
    "Key = Union[int, str]\n",
    "Value = Union[int, str, set, dict, list, tuple]\n",
    "\n",
    "data : Dict[Key, Value] = {\n",
    "                        \"Name\":\"Ahmed\",\n",
    "                        \"F'Name\":\"Abdul Razzaq\",\n",
    "                        \"Education\":\"Matric\",\n",
    "                        #[1,2,3]:\"Karachi\"      #error\n",
    "                        #{1,2,3}:\"Pakistan\"     #error\n",
    "                        \"abc\":{1,2,3,3},\n",
    "                        \"cde\":[\"pak\",\"china\",23],\n",
    "                        \"efg\":[23,43,12,11]\n",
    "                        }\n",
    "\n",
    "pprint.pprint(data)\n",
    "print(data[\"Name\"])\n",
    "print(data[\"F'Name\"])\n",
    "print(data[\"Education\"])\n",
    "print(data[\"abc\"])"
   ]
  },
  {
   "cell_type": "code",
   "execution_count": 18,
   "metadata": {},
   "outputs": [
    {
     "name": "stdout",
     "output_type": "stream",
     "text": [
      "{1, 2, 3, 4}\n",
      "[1, 2, 3, 4]\n"
     ]
    }
   ],
   "source": [
    "abc : set = {1,2,3,2,4}\n",
    "print(abc)\n",
    "xyz : list[int]=list(abc)\n",
    "print(xyz) "
   ]
  },
  {
   "cell_type": "code",
   "execution_count": 27,
   "metadata": {},
   "outputs": [
    {
     "name": "stdout",
     "output_type": "stream",
     "text": [
      "{'Name': 'M Ehtesham Ul Hassan Malik', \"F'Name\": 'Malik Azmat Hussain', 'Education': 'BSSE (Continue)'}\n",
      "\n",
      "\n",
      "{'Education': 'BSSE (Continue)',\n",
      " \"F'Name\": 'Malik Azmat Hussain',\n",
      " 'Name': 'M Ehtesham Ul Hassan Malik'}\n"
     ]
    }
   ],
   "source": [
    "from typing import Dict,Union\n",
    "import pprint\n",
    "\n",
    "Key = Union[int, str]\n",
    "Value = Union[int, str, set, dict, list, tuple]\n",
    "\n",
    "data : dict[Key,Value] = {}\n",
    "\n",
    "data[\"Name\"] = \"M Ehtesham Ul Hassan Malik\" #add new key & value\n",
    "data[\"F\\'Name\"] = \"Malik Azmat Hussain\"\n",
    "data[\"Education\"] = \"BSSE (Continue)\"\n",
    "\n",
    "print(data)\n",
    "print(\"\\n\")\n",
    "pprint.pprint(data)"
   ]
  },
  {
   "cell_type": "code",
   "execution_count": 31,
   "metadata": {},
   "outputs": [
    {
     "name": "stdout",
     "output_type": "stream",
     "text": [
      "{'Name': 'Ahmed', \"F'Name\": 'Abdul Razzaq', 'Education': 'Matric'}\n",
      "{'Name': 'Muhammad Ahmed Raza', \"F'Name\": 'Abdul Razzaq', 'Education': 'Matric'}\n"
     ]
    }
   ],
   "source": [
    "from typing import Dict,Union\n",
    "import pprint\n",
    "Key = Union[int, str]\n",
    "Value = Union[int, str, set, dict, list, tuple]\n",
    "\n",
    "data : Dict[Key, Value] = {\"Name\":\"Ahmed\",\n",
    "                        \"F'Name\":\"Abdul Razzaq\",\n",
    "                        \"Education\":\"Matric\",\n",
    "                        }\n",
    "print(data)\n",
    "data[\"Name\"] = \"Muhammad Ahmed Raza\"\n",
    "print(data)"
   ]
  },
  {
   "cell_type": "code",
   "execution_count": 32,
   "metadata": {},
   "outputs": [
    {
     "name": "stdout",
     "output_type": "stream",
     "text": [
      "{'Name': 'Ahmed', \"F'Name\": 'Abdul Razzaq', 'Education': 'Matric'}\n",
      "{'Name': 'Muhammad Ahmed Raza', \"F'Name\": 'Abdul Razzaq', 'Education': 'Matric'}\n"
     ]
    },
    {
     "data": {
      "text/plain": [
       "['clear',\n",
       " 'copy',\n",
       " 'fromkeys',\n",
       " 'get',\n",
       " 'items',\n",
       " 'keys',\n",
       " 'pop',\n",
       " 'popitem',\n",
       " 'setdefault',\n",
       " 'update',\n",
       " 'values']"
      ]
     },
     "execution_count": 32,
     "metadata": {},
     "output_type": "execute_result"
    }
   ],
   "source": [
    "from typing import Dict,Union\n",
    "import pprint\n",
    "Key = Union[int, str]\n",
    "Value = Union[int, str, set, dict, list, tuple]\n",
    "\n",
    "data : Dict[Key, Value] = {\"Name\":\"Ahmed\",\n",
    "                        \"F'Name\":\"Abdul Razzaq\",\n",
    "                        \"Education\":\"Matric\",\n",
    "                        }\n",
    "print(data)\n",
    "data[\"Name\"] = \"Muhammad Ahmed Raza\"\n",
    "print(data)\n",
    "\n",
    "[i for i in dir(data) if \"__\" not in i]\n"
   ]
  },
  {
   "cell_type": "code",
   "execution_count": 33,
   "metadata": {},
   "outputs": [
    {
     "name": "stdout",
     "output_type": "stream",
     "text": [
      "{'Name': 'Muhammad Ahmed Raza', \"F'Name\": 'Abdul Razzaq', 'Education': 'Matric'}\n"
     ]
    },
    {
     "ename": "KeyError",
     "evalue": "'pakistan'",
     "output_type": "error",
     "traceback": [
      "\u001b[1;31m---------------------------------------------------------------------------\u001b[0m",
      "\u001b[1;31mKeyError\u001b[0m                                  Traceback (most recent call last)",
      "Cell \u001b[1;32mIn[33], line 14\u001b[0m\n\u001b[0;32m     11\u001b[0m data[\u001b[38;5;124m\"\u001b[39m\u001b[38;5;124mName\u001b[39m\u001b[38;5;124m\"\u001b[39m] \u001b[38;5;241m=\u001b[39m \u001b[38;5;124m\"\u001b[39m\u001b[38;5;124mMuhammad Ahmed Raza\u001b[39m\u001b[38;5;124m\"\u001b[39m\n\u001b[0;32m     12\u001b[0m \u001b[38;5;28mprint\u001b[39m(data)\n\u001b[1;32m---> 14\u001b[0m \u001b[38;5;28mprint\u001b[39m(\u001b[43mdata\u001b[49m\u001b[43m[\u001b[49m\u001b[38;5;124;43m'\u001b[39;49m\u001b[38;5;124;43mpakistan\u001b[39;49m\u001b[38;5;124;43m'\u001b[39;49m\u001b[43m]\u001b[49m)\n\u001b[0;32m     17\u001b[0m [i \u001b[38;5;28;01mfor\u001b[39;00m i \u001b[38;5;129;01min\u001b[39;00m \u001b[38;5;28mdir\u001b[39m(data) \u001b[38;5;28;01mif\u001b[39;00m \u001b[38;5;124m\"\u001b[39m\u001b[38;5;124m__\u001b[39m\u001b[38;5;124m\"\u001b[39m \u001b[38;5;129;01mnot\u001b[39;00m \u001b[38;5;129;01min\u001b[39;00m i]\n",
      "\u001b[1;31mKeyError\u001b[0m: 'pakistan'"
     ]
    }
   ],
   "source": [
    "from typing import Dict,Union\n",
    "import pprint\n",
    "Key = Union[int, str]\n",
    "Value = Union[int, str, set, dict, list, tuple]\n",
    "\n",
    "data : Dict[Key, Value] = {\"Name\":\"Ahmed\",\n",
    "                        \"F'Name\":\"Abdul Razzaq\",\n",
    "                        \"Education\":\"Matric\",\n",
    "                        }\n",
    "\n",
    "data[\"Name\"] = \"Muhammad Ahmed Raza\"\n",
    "print(data)\n",
    "\n",
    "print(data['pakistan'])\n",
    "\n",
    "\n",
    "[i for i in dir(data) if \"__\" not in i]\n"
   ]
  },
  {
   "cell_type": "code",
   "execution_count": 37,
   "metadata": {},
   "outputs": [
    {
     "name": "stdout",
     "output_type": "stream",
     "text": [
      "N/A\n",
      "Ahmed\n"
     ]
    },
    {
     "data": {
      "text/plain": [
       "['clear',\n",
       " 'copy',\n",
       " 'fromkeys',\n",
       " 'get',\n",
       " 'items',\n",
       " 'keys',\n",
       " 'pop',\n",
       " 'popitem',\n",
       " 'setdefault',\n",
       " 'update',\n",
       " 'values']"
      ]
     },
     "execution_count": 37,
     "metadata": {},
     "output_type": "execute_result"
    }
   ],
   "source": [
    "from typing import Dict,Union\n",
    "import pprint\n",
    "Key = Union[int, str]\n",
    "Value = Union[int, str, set, dict, list, tuple]\n",
    "\n",
    "data : Dict[Key, Value] = {\"Name\":\"Ahmed\",\n",
    "                        \"F'Name\":\"Abdul Razzaq\",\n",
    "                        \"Education\":\"Matric\",\n",
    "                        }\n",
    "\n",
    "#                  Key   else (Message)\n",
    "print(data.get(\"Pakistan\",\"N/A\"))\n",
    "print(data.get(\"Name\",\"N/A\"))\n",
    "\n",
    "\n",
    "[i for i in dir(data) if \"__\" not in i]\n"
   ]
  },
  {
   "cell_type": "code",
   "execution_count": 38,
   "metadata": {},
   "outputs": [
    {
     "name": "stdout",
     "output_type": "stream",
     "text": [
      "Name\n",
      "F'Name\n",
      "Education\n"
     ]
    }
   ],
   "source": [
    "from typing import Dict,Union\n",
    "import pprint\n",
    "Key = Union[int, str]\n",
    "Value = Union[int, str, set, dict, list, tuple]\n",
    "\n",
    "data : Dict[Key, Value] = {\"Name\":\"Ahmed\",\n",
    "                        \"F'Name\":\"Abdul Razzaq\",\n",
    "                        \"Education\":\"Matric\",\n",
    "                        }\n",
    "\n",
    "for d in data:\n",
    "    print(d)"
   ]
  },
  {
   "cell_type": "code",
   "execution_count": 44,
   "metadata": {},
   "outputs": [
    {
     "name": "stdout",
     "output_type": "stream",
     "text": [
      "dict_keys(['Name', \"F'Name\", 'Education'])\n",
      "dict_values(['Ahmed', 'Abdul Razzaq', 'Matric'])\n",
      "dict_items([('Name', 'Ahmed'), (\"F'Name\", 'Abdul Razzaq'), ('Education', 'Matric')])\n",
      "Name\n",
      "F'Name\n",
      "Education\n"
     ]
    }
   ],
   "source": [
    "from typing import Dict,Union\n",
    "import pprint\n",
    "Key = Union[int, str]\n",
    "Value = Union[int, str, set, dict, list, tuple]\n",
    "\n",
    "data : Dict[Key, Value] = {\"Name\":\"Ahmed\",\n",
    "                        \"F'Name\":\"Abdul Razzaq\",\n",
    "                        \"Education\":\"Matric\",\n",
    "                        }\n",
    "print(data.keys())  #keys\n",
    "print(data.values()) #Values\n",
    "print(data.items()) #items\n",
    "\n",
    "for k in data.keys():\n",
    "    print(k)"
   ]
  },
  {
   "cell_type": "code",
   "execution_count": 45,
   "metadata": {},
   "outputs": [
    {
     "name": "stdout",
     "output_type": "stream",
     "text": [
      "dict_keys(['Name', \"F'Name\", 'Education'])\n",
      "dict_values(['Ahmed', 'Abdul Razzaq', 'Matric'])\n",
      "dict_items([('Name', 'Ahmed'), (\"F'Name\", 'Abdul Razzaq'), ('Education', 'Matric')])\n",
      "Ahmed\n",
      "Abdul Razzaq\n",
      "Matric\n"
     ]
    }
   ],
   "source": [
    "from typing import Dict,Union\n",
    "import pprint\n",
    "Key = Union[int, str]\n",
    "Value = Union[int, str, set, dict, list, tuple]\n",
    "\n",
    "data : Dict[Key, Value] = {\"Name\":\"Ahmed\",\n",
    "                        \"F'Name\":\"Abdul Razzaq\",\n",
    "                        \"Education\":\"Matric\",\n",
    "                        }\n",
    "print(data.keys())  #keys\n",
    "print(data.values()) #Values\n",
    "print(data.items()) #items\n",
    "\n",
    "for v in data.values():\n",
    "    print(v)"
   ]
  },
  {
   "cell_type": "code",
   "execution_count": 46,
   "metadata": {},
   "outputs": [
    {
     "name": "stdout",
     "output_type": "stream",
     "text": [
      "dict_keys(['Name', \"F'Name\", 'Education'])\n",
      "dict_values(['Ahmed', 'Abdul Razzaq', 'Matric'])\n",
      "dict_items([('Name', 'Ahmed'), (\"F'Name\", 'Abdul Razzaq'), ('Education', 'Matric')])\n",
      "Name Ahmed\n",
      "F'Name Abdul Razzaq\n",
      "Education Matric\n"
     ]
    }
   ],
   "source": [
    "from typing import Dict,Union\n",
    "import pprint\n",
    "Key = Union[int, str]\n",
    "Value = Union[int, str, set, dict, list, tuple]\n",
    "\n",
    "data : Dict[Key, Value] = {\"Name\":\"Ahmed\",\n",
    "                        \"F'Name\":\"Abdul Razzaq\",\n",
    "                        \"Education\":\"Matric\",\n",
    "                        }\n",
    "print(data.keys())  #keys\n",
    "print(data.values()) #Values\n",
    "print(data.items()) #items\n",
    "\n",
    "for k,v in data.items():\n",
    "    print(k,v)"
   ]
  },
  {
   "cell_type": "code",
   "execution_count": 47,
   "metadata": {},
   "outputs": [
    {
     "data": {
      "text/plain": [
       "{'Ahmed': 'Name', 'Abdul Razzaq': \"F'Name\", 'Matric': 'Education'}"
      ]
     },
     "execution_count": 47,
     "metadata": {},
     "output_type": "execute_result"
    }
   ],
   "source": [
    "{v:k for k,v in data.items()}"
   ]
  },
  {
   "cell_type": "code",
   "execution_count": 48,
   "metadata": {},
   "outputs": [
    {
     "name": "stdout",
     "output_type": "stream",
     "text": [
      "9 7\n"
     ]
    }
   ],
   "source": [
    "a : int = 7\n",
    "b : int = 9\n",
    "\n",
    "a, b = b, a # shuffle\n",
    "\n",
    "print(a,b)"
   ]
  },
  {
   "cell_type": "code",
   "execution_count": 49,
   "metadata": {},
   "outputs": [
    {
     "name": "stdout",
     "output_type": "stream",
     "text": [
      "{}\n",
      "{'id': None, 'name': None, 'fname': None, 'course': None}\n"
     ]
    }
   ],
   "source": [
    "keys : list[str] = ['id','name','fname','course']\n",
    "\n",
    "data : dict[Key,Value] = {}\n",
    "\n",
    "print(data)\n",
    "\n",
    "data = data.fromkeys(keys) # inline\n",
    "\n",
    "print(data)"
   ]
  },
  {
   "cell_type": "code",
   "execution_count": null,
   "metadata": {},
   "outputs": [],
   "source": []
  }
 ],
 "metadata": {
  "kernelspec": {
   "display_name": "Python12",
   "language": "python",
   "name": "python3"
  },
  "language_info": {
   "codemirror_mode": {
    "name": "ipython",
    "version": 3
   },
   "file_extension": ".py",
   "mimetype": "text/x-python",
   "name": "python",
   "nbconvert_exporter": "python",
   "pygments_lexer": "ipython3",
   "version": "3.12.0"
  }
 },
 "nbformat": 4,
 "nbformat_minor": 2
}
