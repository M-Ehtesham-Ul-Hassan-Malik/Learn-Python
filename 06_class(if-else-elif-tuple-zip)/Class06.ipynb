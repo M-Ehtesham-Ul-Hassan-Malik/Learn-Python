{
 "cells": [
  {
   "cell_type": "markdown",
   "id": "461b5aca-11ea-4a00-8c82-35007faa0beb",
   "metadata": {},
   "source": [
    "# If-else-elif\n",
    "```\n",
    "if logic:\n",
    "    True_block\n",
    "else:\n",
    "    False_block\n",
    "```\n",
    "\n",
    "## Comprehensive if-else\n",
    "```\n",
    "True_block if logic else False_block\n",
    "```\n",
    "* if \n",
    "* if-else\n",
    "* if-elif-else"
   ]
  },
  {
   "cell_type": "code",
   "execution_count": 50,
   "id": "490d651e-3cd2-4d94-a1ab-58ca9c3242cb",
   "metadata": {},
   "outputs": [
    {
     "name": "stdout",
     "output_type": "stream",
     "text": [
      "Pakistan Zindabad\n"
     ]
    }
   ],
   "source": [
    "if True:\n",
    "    print(\"Pakistan Zindabad\")\n",
    "\n",
    "else:\n",
    "    print(\"پاکستان زندہ آباد\")"
   ]
  },
  {
   "cell_type": "code",
   "execution_count": 51,
   "id": "427af199-fa88-4b87-9dcb-29ca5e8c6d7f",
   "metadata": {},
   "outputs": [
    {
     "name": "stdout",
     "output_type": "stream",
     "text": [
      "پاکستان زندہ آباد\n"
     ]
    }
   ],
   "source": [
    "if False:\n",
    "    print(\"Pakistan Zindabad\")\n",
    "\n",
    "else:\n",
    "    print(\"پاکستان زندہ آباد\")"
   ]
  },
  {
   "cell_type": "code",
   "execution_count": 52,
   "id": "f67bc552-b19a-4a9f-83ff-0f4e5fc2debd",
   "metadata": {},
   "outputs": [
    {
     "name": "stdout",
     "output_type": "stream",
     "text": [
      "Pakistan Zindabad\n"
     ]
    }
   ],
   "source": [
    "#        True_Block             Logic         False_Block\n",
    "print(\"Pakistan Zindabad\")if True else print(\"پاکستان زندہ آباد\")"
   ]
  },
  {
   "cell_type": "code",
   "execution_count": 53,
   "id": "5415623e-6ee7-4c3a-aed0-731e40f68795",
   "metadata": {},
   "outputs": [
    {
     "name": "stdout",
     "output_type": "stream",
     "text": [
      "پاکستان زندہ آباد\n"
     ]
    }
   ],
   "source": [
    "#        True_Block             Logic         False_Block\n",
    "print(\"Pakistan Zindabad\")if False else print(\"پاکستان زندہ آباد\")"
   ]
  },
  {
   "cell_type": "markdown",
   "id": "cd3235a0-afd8-413a-9df1-b9e8761306b8",
   "metadata": {},
   "source": [
    "# comperision operators \n",
    "* ==\n",
    "* !=\n",
    "* <=\n",
    "* `>=`\n",
    "## Logic\n",
    "* and\n",
    "* or\n",
    "* not"
   ]
  },
  {
   "cell_type": "code",
   "execution_count": 1,
   "id": "de248161-9d4b-4b37-8d7d-bf45c63c14aa",
   "metadata": {},
   "outputs": [
    {
     "name": "stdout",
     "output_type": "stream",
     "text": [
      "True Pakistan block\n",
      "1\n",
      "2\n"
     ]
    }
   ],
   "source": [
    "  if True:\n",
    "    print(\"True Pakistan block\")\n",
    "\n",
    "print(\"1\")\n",
    "print(\"2\")"
   ]
  },
  {
   "cell_type": "code",
   "execution_count": 55,
   "id": "8bed215b",
   "metadata": {},
   "outputs": [
    {
     "name": "stdout",
     "output_type": "stream",
     "text": [
      "1\n",
      "2\n"
     ]
    }
   ],
   "source": [
    "if False:\n",
    "    print(\"True Pakistan block\")\n",
    "\n",
    "print(\"1\")\n",
    "print(\"2\")"
   ]
  },
  {
   "cell_type": "code",
   "execution_count": 56,
   "id": "71f5532f",
   "metadata": {},
   "outputs": [
    {
     "name": "stdout",
     "output_type": "stream",
     "text": [
      "True_block\n"
     ]
    }
   ],
   "source": [
    "if True:\n",
    "    print(\"True_block\")\n",
    "elif False:\n",
    "    print(\"elif logic1\")\n",
    "elif False:\n",
    "    print(\"elif logic2\")\n",
    "elif False:\n",
    "    print(\"elif logic3\")\n",
    "else:\n",
    "    print(\"final else block\")"
   ]
  },
  {
   "cell_type": "code",
   "execution_count": 57,
   "id": "1440590d",
   "metadata": {},
   "outputs": [
    {
     "name": "stdout",
     "output_type": "stream",
     "text": [
      "elif logic1\n"
     ]
    }
   ],
   "source": [
    "if False:\n",
    "    print(\"True_block\")\n",
    "elif True:\n",
    "    print(\"elif logic1\")\n",
    "elif False:\n",
    "    print(\"elif logic2\")\n",
    "elif False:\n",
    "    print(\"elif logic3\")\n",
    "else:\n",
    "    print(\"final else block\")"
   ]
  },
  {
   "cell_type": "code",
   "execution_count": 58,
   "id": "c227008e",
   "metadata": {},
   "outputs": [
    {
     "name": "stdout",
     "output_type": "stream",
     "text": [
      "elif logic2\n",
      "final else block\n",
      "Pakistan\n"
     ]
    }
   ],
   "source": [
    "# chain1 run only one block \n",
    "if False:\n",
    "    print(\"True_block\")\n",
    "elif False:\n",
    "    print(\"elif logic1\")\n",
    "elif True:                              #here two conditions are true but it will only run which comes first.\n",
    "    print(\"elif logic2\")\n",
    "elif True:\n",
    "    print(\"elif logic3\")\n",
    "else:\n",
    "    print(\"final else block\")\n",
    "\n",
    "# chain2 run only one block \n",
    "if False:\n",
    "    print(\"True_block\")\n",
    "elif False:\n",
    "    print(\"elif logic1\")\n",
    "elif False:\n",
    "    print(\"elif logic2\")\n",
    "elif False:\n",
    "    print(\"elif logic3\")\n",
    "else:\n",
    "    print(\"final else block\")\n",
    "\n",
    "print(\"Pakistan\")"
   ]
  },
  {
   "cell_type": "markdown",
   "id": "26a854ec",
   "metadata": {},
   "source": [
    "# Grading Rules\n",
    "https://www.infoworld.com/article/3630372/get-started-with-python-type-hints.html"
   ]
  },
  {
   "cell_type": "code",
   "execution_count": 59,
   "id": "70736852",
   "metadata": {},
   "outputs": [
    {
     "name": "stdout",
     "output_type": "stream",
     "text": [
      "Dear student\n",
      "Your percentage is 88, and your grade based on percentage is A+\n"
     ]
    }
   ],
   "source": [
    "from typing import Union\n",
    "\n",
    "per : Union [int, float] = 88\n",
    "grade : Union[str, None] = None\n",
    "\n",
    "if per >= 80:\n",
    "    grade = \"A+\"\n",
    "elif per >= 70:\n",
    "    grade = \"A\"\n",
    "elif per >=60:\n",
    "    grade = \"B\"\n",
    "elif per >=50:\n",
    "    grade = \"C\"\n",
    "elif per >=40:\n",
    "    grade = \"D\"\n",
    "elif per >=33:\n",
    "    grade = \"E\"\n",
    "else:\n",
    "    grade = \"F\"\n",
    "\n",
    "print(f\"Dear student\\nYour percentage is {per}, and your grade based on percentage is {grade}\")"
   ]
  },
  {
   "cell_type": "code",
   "execution_count": 60,
   "id": "af5d1540",
   "metadata": {},
   "outputs": [
    {
     "name": "stdout",
     "output_type": "stream",
     "text": [
      "<class 'str'>\n",
      "56\n"
     ]
    }
   ],
   "source": [
    "a = input(\"Enter your percentage:\\t\")\n",
    "print(type(a))\n",
    "print(a)"
   ]
  },
  {
   "cell_type": "code",
   "execution_count": 61,
   "id": "797bceff",
   "metadata": {},
   "outputs": [
    {
     "name": "stdout",
     "output_type": "stream",
     "text": [
      "<class 'int'>\n",
      "23\n"
     ]
    }
   ],
   "source": [
    "a = int(input(\"Enter your percentage:\\t\"))\n",
    "print(type(a))\n",
    "print(a)"
   ]
  },
  {
   "cell_type": "code",
   "execution_count": 62,
   "id": "5b776cd0",
   "metadata": {},
   "outputs": [
    {
     "name": "stdout",
     "output_type": "stream",
     "text": [
      "Dear student\n",
      "Your percentage is 66, and your grade based on percentage is B\n"
     ]
    }
   ],
   "source": [
    "# Dynamic Pogram for calculating grades\n",
    "\n",
    "from typing import Union\n",
    "\n",
    "#per : Union [int, float] = int(input(\"Enter your Percentage:\\n\"))\n",
    "per : int|float = int(input(\"Enter your Percentage:\\n\"))  #instted of Union we can also use '|' operator or symbol\n",
    "grade : Union[str, None] = None\n",
    "\n",
    "\n",
    "if per >= 80:\n",
    "    grade = \"A+\"\n",
    "elif per >= 70:\n",
    "    grade = \"A\"\n",
    "elif per >=60:\n",
    "    grade = \"B\"\n",
    "elif per >=50:\n",
    "    grade = \"C\"\n",
    "elif per >=40:\n",
    "    grade = \"D\"\n",
    "elif per >=33:\n",
    "    grade = \"E\"\n",
    "else:\n",
    "    grade = \"F\"\n",
    "\n",
    "print(f\"Dear student\\nYour percentage is {per}, and your grade based on percentage is {grade}\")"
   ]
  },
  {
   "cell_type": "markdown",
   "id": "cb77614d",
   "metadata": {},
   "source": [
    "# Logical Error"
   ]
  },
  {
   "cell_type": "code",
   "execution_count": 63,
   "id": "03fb1cb7",
   "metadata": {},
   "outputs": [
    {
     "name": "stdout",
     "output_type": "stream",
     "text": [
      "Dear student\n",
      "Your percentage is 875, and your grade based on percentage is Fail\n"
     ]
    }
   ],
   "source": [
    "# Dynamic Pogram for calculating grades\n",
    "\n",
    "from typing import Union\n",
    "\n",
    "per : int|float = int(input(\"Enter your Percentage:\\n\")) \n",
    "grade : Union[str, None] = None\n",
    "\n",
    "\n",
    "if per >= 0:             #logical error since 99 is greater than so the condition is true hence this block is running! \n",
    "    grade = \"Fail\"\n",
    "elif per >= 33:\n",
    "    grade = \"E\"\n",
    "elif per >=40:\n",
    "    grade = \"D\"\n",
    "elif per >=50:\n",
    "    grade = \"C\"\n",
    "elif per >=60:\n",
    "    grade = \"B\"\n",
    "elif per >=70:\n",
    "    grade = \"A\"\n",
    "else:\n",
    "    grade = \"A+\"\n",
    "\n",
    "print(f\"Dear student\\nYour percentage is {per}, and your grade based on percentage is {grade}\")"
   ]
  },
  {
   "cell_type": "code",
   "execution_count": 64,
   "id": "bcdc4d7d",
   "metadata": {},
   "outputs": [
    {
     "name": "stdout",
     "output_type": "stream",
     "text": [
      "Dear student\n",
      "Your percentage is 44, and your grade based on percentage is D\n"
     ]
    }
   ],
   "source": [
    "# correcting the logical error\n",
    "# Dynamic Pogram for calculating grades\n",
    "\n",
    "from typing import Union\n",
    "\n",
    "per : int|float = int(input(\"Enter your Percentage:\\n\")) \n",
    "grade : Union[str, None] = None\n",
    "\n",
    "\n",
    "if per >= 0 and per < 33:            \n",
    "    grade = \"Fail\"\n",
    "elif per >= 33 and per < 40:\n",
    "    grade = \"E\"\n",
    "elif per >=40 and per < 50:\n",
    "    grade = \"D\"\n",
    "elif per >=50 and per < 60:\n",
    "    grade = \"C\"\n",
    "elif per >=60 and per < 70:\n",
    "    grade = \"B\"\n",
    "elif per >=70 and per < 80:\n",
    "    grade = \"A\"\n",
    "else:\n",
    "    grade = \"A+\"\n",
    "\n",
    "print(f\"Dear student\\nYour percentage is {per}, and your grade based on percentage is {grade}\")"
   ]
  },
  {
   "cell_type": "code",
   "execution_count": 65,
   "id": "12953716",
   "metadata": {},
   "outputs": [
    {
     "name": "stdout",
     "output_type": "stream",
     "text": [
      "Dear student\n",
      "Your percentage is 99, and your grade based on percentage is A+\n"
     ]
    }
   ],
   "source": [
    "# correcting the logical error\n",
    "# it is good practice to use brackets in condition so that your code will be easy to understand.\n",
    "from typing import Union\n",
    "\n",
    "per : int|float = int(input(\"Enter your Percentage:\\n\")) \n",
    "grade : Union[str, None] = None\n",
    "\n",
    "\n",
    "if (per >= 0) and (per < 33):            \n",
    "    grade = \"Fail\"\n",
    "elif (per >= 33) and (per < 40):\n",
    "    grade = \"E\"\n",
    "elif (per >=40) and (per < 50):\n",
    "    grade = \"D\"\n",
    "elif (per >=50) and (per < 60):\n",
    "    grade = \"C\"\n",
    "elif (per >=60) and (per < 70):\n",
    "    grade = \"B\"\n",
    "elif (per >=70) and (per < 80):\n",
    "    grade = \"A\"\n",
    "else:\n",
    "    grade = \"A+\"\n",
    "\n",
    "print(f\"Dear student\\nYour percentage is {per}, and your grade based on percentage is {grade}\")"
   ]
  },
  {
   "cell_type": "markdown",
   "id": "7d3376f3",
   "metadata": {},
   "source": [
    "it will give errors if we input the percentage in points like 88.7"
   ]
  },
  {
   "cell_type": "code",
   "execution_count": 66,
   "id": "e0b77572",
   "metadata": {},
   "outputs": [
    {
     "name": "stdout",
     "output_type": "stream",
     "text": [
      "Dear student\n",
      "Your percentage is 66, and your grade based on percentage is B\n"
     ]
    }
   ],
   "source": [
    "# correcting the logical error\n",
    "# Dynamic Pogram for calculating grades\n",
    "\n",
    "from typing import Union\n",
    "\n",
    "per : int|float = int(input(\"Enter your Percentage:\\n\")) \n",
    "grade : Union[str, None] = None\n",
    "\n",
    "\n",
    "if per >= 0 and per < 33:            \n",
    "    grade = \"Fail\"\n",
    "elif per >= 33 and per < 40:\n",
    "    grade = \"E\"\n",
    "elif per >=40 and per < 50:\n",
    "    grade = \"D\"\n",
    "elif per >=50 and per < 60:\n",
    "    grade = \"C\"\n",
    "elif per >=60 and per < 70:\n",
    "    grade = \"B\"\n",
    "elif per >=70 and per < 80:\n",
    "    grade = \"A\"\n",
    "else:\n",
    "    grade = \"A+\"\n",
    "\n",
    "print(f\"Dear student\\nYour percentage is {per}, and your grade based on percentage is {grade}\")"
   ]
  },
  {
   "cell_type": "markdown",
   "id": "40abddbc",
   "metadata": {},
   "source": [
    "to handle this we will use change the input type from `int` to `float`"
   ]
  },
  {
   "cell_type": "code",
   "execution_count": 67,
   "id": "8441026e",
   "metadata": {},
   "outputs": [
    {
     "name": "stdout",
     "output_type": "stream",
     "text": [
      "Dear student\n",
      "Your percentage is 98.0, and your grade based on percentage is A+\n"
     ]
    }
   ],
   "source": [
    "# correcting the logical error\n",
    "# Dynamic Pogram for calculating grades\n",
    "\n",
    "from typing import Union\n",
    "\n",
    "per : int|float = float(input(\"Enter your Percentage:\\n\")) \n",
    "grade : Union[str, None] = None\n",
    "\n",
    "\n",
    "if per >= 0 and per < 33:            \n",
    "    grade = \"Fail\"\n",
    "elif per >= 33 and per < 40:\n",
    "    grade = \"E\"\n",
    "elif per >=40 and per < 50:\n",
    "    grade = \"D\"\n",
    "elif per >=50 and per < 60:\n",
    "    grade = \"C\"\n",
    "elif per >=60 and per < 70:\n",
    "    grade = \"B\"\n",
    "elif per >=70 and per < 80:\n",
    "    grade = \"A\"\n",
    "else:\n",
    "    grade = \"A+\"\n",
    "\n",
    "print(f\"Dear student\\nYour percentage is {per}, and your grade based on percentage is {grade}\")"
   ]
  },
  {
   "cell_type": "markdown",
   "id": "6831eb3a",
   "metadata": {},
   "source": [
    "# Student Percentages\n",
    "https://peps.python.org/pep-0484/#type-aliases"
   ]
  },
  {
   "cell_type": "code",
   "execution_count": 68,
   "id": "9adc3450",
   "metadata": {},
   "outputs": [
    {
     "name": "stdout",
     "output_type": "stream",
     "text": [
      "[40, 32.9, 77.3, 88.3, 98, 53]\n",
      "['D', 'Fail', 'A', 'A+', 'A+', 'C']\n"
     ]
    }
   ],
   "source": [
    "PerType = float|int\n",
    "\n",
    "percentage : list[PerType] = [40, 32.9, 77.3, 88.3, 98, 53]\n",
    "grades : list[str] = []\n",
    "\n",
    "for per in percentage:\n",
    "    grade : str = \"\"\n",
    "\n",
    "    if per >= 0 and per < 33:            \n",
    "        grade = \"Fail\"\n",
    "    elif per >= 33 and per < 40:\n",
    "        grade = \"E\"\n",
    "    elif per >=40 and per < 50:\n",
    "        grade = \"D\"\n",
    "    elif per >=50 and per < 60:\n",
    "        grade = \"C\"\n",
    "    elif per >=60 and per < 70:\n",
    "        grade = \"B\"\n",
    "    elif per >=70 and per < 80:\n",
    "        grade = \"A\"\n",
    "    elif per>=80 and per <=100:\n",
    "        grade = \"A+\"\n",
    "\n",
    "    grades.append(grade)\n",
    "\n",
    "print(percentage)\n",
    "print(grades)"
   ]
  },
  {
   "cell_type": "code",
   "execution_count": 69,
   "id": "92048548",
   "metadata": {},
   "outputs": [
    {
     "name": "stdout",
     "output_type": "stream",
     "text": [
      "[40, 32.9, 77.3, 88.3, 98, 53]\n",
      "['D', 'Fail', 'A', 'A+', 'A+', 'C']\n"
     ]
    },
    {
     "data": {
      "text/plain": [
       "[(40, 'D'), (32.9, 'Fail'), (77.3, 'A'), (88.3, 'A+'), (98, 'A+'), (53, 'C')]"
      ]
     },
     "execution_count": 69,
     "metadata": {},
     "output_type": "execute_result"
    }
   ],
   "source": [
    "PerType = float|int\n",
    "\n",
    "percentage : list[PerType] = [40, 32.9, 77.3, 88.3, 98, 53]\n",
    "grades : list[str] = []\n",
    "\n",
    "for per in percentage:\n",
    "    grade : str = \"\"\n",
    "\n",
    "    if per >= 0 and per < 33:            \n",
    "        grade = \"Fail\"\n",
    "    elif per >= 33 and per < 40:\n",
    "        grade = \"E\"\n",
    "    elif per >=40 and per < 50:\n",
    "        grade = \"D\"\n",
    "    elif per >=50 and per < 60:\n",
    "        grade = \"C\"\n",
    "    elif per >=60 and per < 70:\n",
    "        grade = \"B\"\n",
    "    elif per >=70 and per < 80:\n",
    "        grade = \"A\"\n",
    "    elif per>=80 and per <=100:\n",
    "        grade = \"A+\"\n",
    "\n",
    "    grades.append(grade)\n",
    "\n",
    "print(percentage)\n",
    "print(grades)\n",
    "\n",
    "list(zip(percentage,grades))"
   ]
  },
  {
   "cell_type": "code",
   "execution_count": 70,
   "id": "b367e37a",
   "metadata": {},
   "outputs": [
    {
     "name": "stdout",
     "output_type": "stream",
     "text": [
      "[40, 32.9, 77.3, 88.3, 98, 53]\n",
      "['D', 'Fail', 'A', 'A+', 'A+', 'C']\n"
     ]
    },
    {
     "data": {
      "text/plain": [
       "[(0, 40, 'D'),\n",
       " (1, 32.9, 'Fail'),\n",
       " (2, 77.3, 'A'),\n",
       " (3, 88.3, 'A+'),\n",
       " (4, 98, 'A+'),\n",
       " (5, 53, 'C')]"
      ]
     },
     "execution_count": 70,
     "metadata": {},
     "output_type": "execute_result"
    }
   ],
   "source": [
    "PerType = float|int\n",
    "\n",
    "percentage : list[PerType] = [40, 32.9, 77.3, 88.3, 98, 53]\n",
    "grades : list[str] = []\n",
    "\n",
    "for per in percentage:\n",
    "    grade : str = \"\"\n",
    "\n",
    "    if per >= 0 and per < 33:            \n",
    "        grade = \"Fail\"\n",
    "    elif per >= 33 and per < 40:\n",
    "        grade = \"E\"\n",
    "    elif per >=40 and per < 50:\n",
    "        grade = \"D\"\n",
    "    elif per >=50 and per < 60:\n",
    "        grade = \"C\"\n",
    "    elif per >=60 and per < 70:\n",
    "        grade = \"B\"\n",
    "    elif per >=70 and per < 80:\n",
    "        grade = \"A\"\n",
    "    elif per>=80 and per <=100:\n",
    "        grade = \"A+\"\n",
    "\n",
    "    grades.append(grade)\n",
    "\n",
    "print(percentage)\n",
    "print(grades)\n",
    "\n",
    "roll_no: list[int] = list(range(len(percentage)))\n",
    "data_base = list(zip(roll_no,percentage, grades))\n",
    "data_base"
   ]
  },
  {
   "cell_type": "code",
   "execution_count": 71,
   "id": "60a86054",
   "metadata": {},
   "outputs": [
    {
     "data": {
      "text/plain": [
       "[(0, 40, 'D'),\n",
       " (1, 32.9, 'Fail'),\n",
       " (2, 77.3, 'A'),\n",
       " (3, 88.3, 'A+'),\n",
       " (4, 98, 'A+'),\n",
       " (5, 53, 'C')]"
      ]
     },
     "execution_count": 71,
     "metadata": {},
     "output_type": "execute_result"
    }
   ],
   "source": [
    "sorted (data_base)"
   ]
  },
  {
   "cell_type": "code",
   "execution_count": 72,
   "id": "f4c75e79",
   "metadata": {},
   "outputs": [
    {
     "data": {
      "text/plain": [
       "[(0, 40, 'D'),\n",
       " (1, 32.9, 'Fail'),\n",
       " (2, 77.3, 'A'),\n",
       " (3, 88.3, 'A+'),\n",
       " (4, 98, 'A+'),\n",
       " (5, 53, 'C')]"
      ]
     },
     "metadata": {},
     "output_type": "display_data"
    },
    {
     "data": {
      "text/plain": [
       "[(1, 32.9, 'Fail'),\n",
       " (0, 40, 'D'),\n",
       " (5, 53, 'C'),\n",
       " (2, 77.3, 'A'),\n",
       " (3, 88.3, 'A+'),\n",
       " (4, 98, 'A+')]"
      ]
     },
     "execution_count": 72,
     "metadata": {},
     "output_type": "execute_result"
    }
   ],
   "source": [
    "display(data_base)\n",
    "sorted(data_base, key = lambda x:x[1])"
   ]
  },
  {
   "cell_type": "code",
   "execution_count": 73,
   "id": "8c261ab4",
   "metadata": {},
   "outputs": [
    {
     "data": {
      "text/plain": [
       "[(0, 40, 'D'),\n",
       " (1, 32.9, 'Fail'),\n",
       " (2, 77.3, 'A'),\n",
       " (3, 88.3, 'A+'),\n",
       " (4, 98, 'A+'),\n",
       " (5, 53, 'C')]"
      ]
     },
     "metadata": {},
     "output_type": "display_data"
    },
    {
     "data": {
      "text/plain": [
       "[(4, 98, 'A+'),\n",
       " (3, 88.3, 'A+'),\n",
       " (2, 77.3, 'A'),\n",
       " (5, 53, 'C'),\n",
       " (0, 40, 'D'),\n",
       " (1, 32.9, 'Fail')]"
      ]
     },
     "execution_count": 73,
     "metadata": {},
     "output_type": "execute_result"
    }
   ],
   "source": [
    "display (data_base)\n",
    "sorted(data_base, key=lambda x:x[1], reverse=True)"
   ]
  },
  {
   "cell_type": "code",
   "execution_count": 74,
   "id": "4d7863b4",
   "metadata": {},
   "outputs": [
    {
     "name": "stdout",
     "output_type": "stream",
     "text": [
      "PRINCIPAL\n",
      "Teacher\n",
      "Student\n",
      "Staff\n",
      "Security\n"
     ]
    }
   ],
   "source": [
    "school : list[str] = [\"principal\",\"teacher\", \"student\", \"staff\",\"security\" ]\n",
    "\n",
    "for person in school:\n",
    "    if person == \"principal\":\n",
    "        print(person.upper())\n",
    "    else:\n",
    "        print(person.title())"
   ]
  },
  {
   "cell_type": "code",
   "execution_count": 75,
   "id": "996712b5",
   "metadata": {},
   "outputs": [
    {
     "name": "stdout",
     "output_type": "stream",
     "text": [
      "PRINCIPAL\n",
      "Teacher\n",
      "Student\n",
      "Staff\n",
      "Security\n"
     ]
    },
    {
     "data": {
      "text/plain": [
       "[None, None, None, None, None]"
      ]
     },
     "execution_count": 75,
     "metadata": {},
     "output_type": "execute_result"
    }
   ],
   "source": [
    "school : list[str] = [\"principal\",\"teacher\", \"student\", \"staff\",\"security\" ]\n",
    "\n",
    "[print(person.upper()) if person == \"principal\" else print(person.title()) for person in school]"
   ]
  },
  {
   "cell_type": "code",
   "execution_count": 76,
   "id": "49462196",
   "metadata": {},
   "outputs": [
    {
     "name": "stdout",
     "output_type": "stream",
     "text": [
      "PRINCIPAL\n",
      "TEACHER\n",
      "student\n",
      "STAFF\n",
      "security\n"
     ]
    }
   ],
   "source": [
    "school : list[str] = [\"principal\",\"teacher\", \"student\", \"staff\",\"security\" ]\n",
    "\n",
    "for person in school: # in = extract elements from iterated types\n",
    "    if person != \"security\" and person != \"student\":\n",
    "        print(person.upper())\n",
    "    else:\n",
    "        print(person.lower())"
   ]
  },
  {
   "cell_type": "markdown",
   "id": "080fac94",
   "metadata": {},
   "source": [
    "# `in` operator\n",
    "* `in` extract elements from iterated types in for loop\n",
    "* but generally `in` checks the the membership of the element"
   ]
  },
  {
   "cell_type": "code",
   "execution_count": 77,
   "id": "bf147bd0",
   "metadata": {},
   "outputs": [
    {
     "data": {
      "text/plain": [
       "True"
      ]
     },
     "execution_count": 77,
     "metadata": {},
     "output_type": "execute_result"
    }
   ],
   "source": [
    "\"principal\" in school"
   ]
  },
  {
   "cell_type": "code",
   "execution_count": 78,
   "id": "dd370323",
   "metadata": {},
   "outputs": [
    {
     "data": {
      "text/plain": [
       "False"
      ]
     },
     "execution_count": 78,
     "metadata": {},
     "output_type": "execute_result"
    }
   ],
   "source": [
    "\"coordinator\" in school"
   ]
  },
  {
   "cell_type": "code",
   "execution_count": 79,
   "id": "cf54de6f",
   "metadata": {},
   "outputs": [
    {
     "name": "stdout",
     "output_type": "stream",
     "text": [
      " Coordinator, can give joining if fulfuil the criteria.\n"
     ]
    }
   ],
   "source": [
    "school : list[str] = [\"principal\",\"teacher\", \"student\", \"staff\",\"security\" ]\n",
    "\n",
    "person : str = \"coordinator\" \n",
    "\n",
    "if person not in school:\n",
    "    print(f\" {person.title()}, can give joining if fulfuil the criteria.\")"
   ]
  },
  {
   "cell_type": "code",
   "execution_count": 80,
   "id": "f969d807",
   "metadata": {},
   "outputs": [
    {
     "name": "stdout",
     "output_type": "stream",
     "text": [
      "Adding mushrooms.\n",
      "Adding extra cheese.\n",
      "\n",
      "Finished making your pizza!\n"
     ]
    }
   ],
   "source": [
    "requested_toppings : list[str] = ['mushrooms', 'extra cheese']\n",
    "\n",
    "if 'mushrooms' in requested_toppings:\n",
    "      print(\"Adding mushrooms.\")\n",
    "    \n",
    "if 'pepperoni' in requested_toppings: \n",
    "    print(\"Adding pepperoni.\")\n",
    "    \n",
    "if 'extra cheese' in requested_toppings:\n",
    "    print(\"Adding extra cheese.\")\n",
    "    \n",
    "print(\"\\nFinished making your pizza!\")"
   ]
  },
  {
   "cell_type": "code",
   "execution_count": 81,
   "id": "2eb3a73e",
   "metadata": {},
   "outputs": [
    {
     "name": "stdout",
     "output_type": "stream",
     "text": [
      "Adding mushrooms.\n",
      "Sorry, we don't have french fries.\n",
      "Adding extra cheese.\n",
      "\n",
      "Finished making your pizza!\n"
     ]
    }
   ],
   "source": [
    "available_toppings:list[str] = ['mushrooms', 'olives', 'green peppers',\n",
    "                        'pepperoni', 'pineapple', 'extra cheese']\n",
    "\n",
    "requested_toppings:list[str] = ['mushrooms', 'french fries', 'extra cheese'] # user input\n",
    "\n",
    "for requested_topping in requested_toppings:\n",
    "    if requested_topping in available_toppings:\n",
    "        print(f\"Adding {requested_topping}.\")\n",
    "    else:\n",
    "        print(f\"Sorry, we don't have {requested_topping}.\")\n",
    "print(\"\\nFinished making your pizza!\")"
   ]
  },
  {
   "cell_type": "code",
   "execution_count": 82,
   "id": "f845a599",
   "metadata": {},
   "outputs": [
    {
     "data": {
      "text/plain": [
       "['cheese', ' mushroom', ' french fries']"
      ]
     },
     "execution_count": 82,
     "metadata": {},
     "output_type": "execute_result"
    }
   ],
   "source": [
    "input(\"Enter ',' seprated value for topping\").split(\",\")\n"
   ]
  },
  {
   "cell_type": "code",
   "execution_count": 86,
   "id": "2694d149",
   "metadata": {},
   "outputs": [
    {
     "name": "stdout",
     "output_type": "stream",
     "text": [
      "sent otp on you registered number.\n",
      "Welcom to Flex.\n"
     ]
    }
   ],
   "source": [
    "user_name : str = input(\"Enter user id: \\t\")\n",
    "user_passwrod : str = input(\"Enter password:\\t\")\n",
    "\n",
    "\n",
    "if user_name == 'admin' and user_passwrod == 'admin':\n",
    "    print(\"sent otp on you registered number.\")\n",
    "    otp : str = input(\"Please enter otp:\")\n",
    "    if otp == '123':\n",
    "        print(\"Welcom to Flex.\")\n",
    "else:\n",
    "    print(\"Invalid user name or password.\")"
   ]
  }
 ],
 "metadata": {
  "kernelspec": {
   "display_name": "Python 3 (ipykernel)",
   "language": "python",
   "name": "python3"
  },
  "language_info": {
   "codemirror_mode": {
    "name": "ipython",
    "version": 3
   },
   "file_extension": ".py",
   "mimetype": "text/x-python",
   "name": "python",
   "nbconvert_exporter": "python",
   "pygments_lexer": "ipython3",
   "version": "3.12.0"
  }
 },
 "nbformat": 4,
 "nbformat_minor": 5
}
