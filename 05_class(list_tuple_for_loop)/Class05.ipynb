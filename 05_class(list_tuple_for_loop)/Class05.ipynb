{
 "cells": [
  {
   "cell_type": "markdown",
   "id": "026095a2-4f5c-4197-8874-a3d2d140d447",
   "metadata": {},
   "source": [
    "# List\n",
    "* Iteration operation with loop\n",
    "* apply any operation on element"
   ]
  },
  {
   "cell_type": "code",
   "execution_count": 1,
   "id": "0f41ad74-dbbf-4a73-aacc-ba2cff269d7d",
   "metadata": {},
   "outputs": [
    {
     "name": "stdout",
     "output_type": "stream",
     "text": [
      "['Amjad', 'Ali', 'Ahmed']\n"
     ]
    }
   ],
   "source": [
    "names : list[str] = ['Amjad',\"Ali\",\"Ahmed\"]\n",
    "print(names)"
   ]
  },
  {
   "cell_type": "code",
   "execution_count": 6,
   "id": "383babfd-49b9-4f6d-af34-502a4564d60d",
   "metadata": {},
   "outputs": [
    {
     "name": "stdout",
     "output_type": "stream",
     "text": [
      "Amjad\n",
      "Ali\n",
      "Ahmed\n"
     ]
    }
   ],
   "source": [
    "names : list[str] = ['Amjad',\"Ali\",\"Ahmed\"]\n",
    "for name in names:\n",
    "    print(name)"
   ]
  },
  {
   "cell_type": "code",
   "execution_count": 8,
   "id": "41e98fb0-9671-4855-b8ed-5e7e37fca530",
   "metadata": {},
   "outputs": [
    {
     "name": "stdout",
     "output_type": "stream",
     "text": [
      "Amjad\n",
      "Ali\n",
      "Ahmed\n"
     ]
    }
   ],
   "source": [
    "names : list[str] = ['Amjad',\"Ali\",\"Ahmed\"]\n",
    "\n",
    "i:int = 0 # counter = 0\n",
    "\n",
    "while i<len(names): # names length =3\n",
    "    print(names[i])\n",
    "    i += 1\n",
    "    "
   ]
  },
  {
   "cell_type": "code",
   "execution_count": 9,
   "id": "1e792a5e-5ae1-45a2-a6c4-247aa9edf2bb",
   "metadata": {},
   "outputs": [
    {
     "name": "stdout",
     "output_type": "stream",
     "text": [
      "Amjad\n",
      "Ali\n",
      "Ahmed\n"
     ]
    }
   ],
   "source": [
    "names : list[str] = ['Amjad',\"Ali\",\"Ahmed\"]\n",
    "for name in names:\n",
    "    print(name)"
   ]
  },
  {
   "cell_type": "code",
   "execution_count": 12,
   "id": "515811de-cbb0-4553-b32f-eb215164e7e1",
   "metadata": {},
   "outputs": [
    {
     "name": "stdout",
     "output_type": "stream",
     "text": [
      "Welcome dear Amjad\n",
      "Welcome dear Ali\n",
      "Welcome dear Ahmed\n"
     ]
    }
   ],
   "source": [
    "names : list[str] = ['Amjad',\"Ali\",\"Ahmed\"]\n",
    "for name in names:\n",
    "    print(f\"Welcome dear {name.title()}\")"
   ]
  },
  {
   "cell_type": "code",
   "execution_count": 14,
   "id": "775302e5-0711-43f7-9eb8-b97c9dedd6b0",
   "metadata": {},
   "outputs": [
    {
     "name": "stdout",
     "output_type": "stream",
     "text": [
      "Welcome dear Amjad\n",
      "Learning Gen AI\n",
      "\n",
      "Welcome dear Ali\n",
      "Learning Gen AI\n",
      "\n",
      "Welcome dear Ahmed\n",
      "Learning Gen AI\n",
      "\n"
     ]
    }
   ],
   "source": [
    "names : list[str] = ['Amjad',\"Ali\",\"Ahmed\"]\n",
    "for name in names:\n",
    "    print(f\"Welcome dear {name.title()}\")\n",
    "    print(\"Learning Gen AI\\n\")"
   ]
  },
  {
   "cell_type": "code",
   "execution_count": 15,
   "id": "c82032d5-5aa5-4f41-aa8a-fe4518c08c1b",
   "metadata": {},
   "outputs": [
    {
     "name": "stdout",
     "output_type": "stream",
     "text": [
      "Welcome dear Amjad\n",
      "Learning Gen AI\n",
      "\n",
      "Welcome dear Ali\n",
      "Learning Gen AI\n",
      "\n",
      "Welcome dear Ahmed\n",
      "Learning Gen AI\n",
      "\n",
      "This will not be print more than once since i have not given indent to this line\n"
     ]
    }
   ],
   "source": [
    "names : list[str] = ['Amjad',\"Ali\",\"Ahmed\"]\n",
    "for name in names:\n",
    "    print(f\"Welcome dear {name.title()}\")\n",
    "    print(\"Learning Gen AI\\n\")\n",
    "print(\"This will not be print more than once since i have not given indent to this line\")"
   ]
  },
  {
   "cell_type": "code",
   "execution_count": 22,
   "id": "264090b4-a800-4e5b-8423-2dc389f72203",
   "metadata": {},
   "outputs": [
    {
     "name": "stdout",
     "output_type": "stream",
     "text": [
      "('Amjad', '123')\n",
      "('Ali', '345')\n",
      "('Ahmed', '789')\n"
     ]
    }
   ],
   "source": [
    "data_base : list[tuple[str,str]] = [(\"Amjad\",'123'),\n",
    "                                    (\"Ali\",'345'),\n",
    "                                    ('Ahmed','789')\n",
    "                                    ]\n",
    "\n",
    "for row in data_base:\n",
    "    print(row)"
   ]
  },
  {
   "cell_type": "code",
   "execution_count": 23,
   "id": "2790ebe3-808b-46cb-953f-db0aa6a5f218",
   "metadata": {},
   "outputs": [
    {
     "name": "stdout",
     "output_type": "stream",
     "text": [
      "Amjad 123\n",
      "Ali 345\n",
      "Ahmed 789\n"
     ]
    }
   ],
   "source": [
    "data_base : list[tuple[str,str]] = [(\"Amjad\",'123'),\n",
    "                                    (\"Ali\",'345'),\n",
    "                                    ('Ahmed','789')\n",
    "                                    ]\n",
    "\n",
    "\n",
    "for row in data_base:\n",
    "    user, password = row\n",
    "    print(user, password)"
   ]
  },
  {
   "cell_type": "code",
   "execution_count": 19,
   "id": "b00df83d-a343-4db9-8eb4-a1be3ac056be",
   "metadata": {},
   "outputs": [
    {
     "name": "stdout",
     "output_type": "stream",
     "text": [
      "Enter your name Ehtesham\n"
     ]
    },
    {
     "name": "stdout",
     "output_type": "stream",
     "text": [
      "good to see you Ehtesham\n"
     ]
    }
   ],
   "source": [
    "user_input: str = input(\"Enter your name\")\n",
    "print(f\"good to see you {user_input}\")"
   ]
  },
  {
   "cell_type": "code",
   "execution_count": 25,
   "id": "66c222f5-0d19-476d-94c0-c03cadb7add8",
   "metadata": {},
   "outputs": [
    {
     "name": "stdout",
     "output_type": "stream",
     "text": [
      "Enter your name Amjad\n",
      "Enter your password 123\n"
     ]
    },
    {
     "name": "stdout",
     "output_type": "stream",
     "text": [
      "Access granted to Amjad\n"
     ]
    }
   ],
   "source": [
    "data_base : list[tuple[str,str]] = [(\"Amjad\",'123'),\n",
    "                                    (\"Ali\",'345'),\n",
    "                                    ('Ahmed','789')\n",
    "                                    ]\n",
    "\n",
    "input_user: str = input(\"Enter your name\")\n",
    "input_password: str = input(\"Enter your password\")\n",
    "\n",
    "for row in data_base:\n",
    "    user, password = row\n",
    "    if user==input_user and input_password==password:\n",
    "        print(f\"Access granted to {user}\")\n",
    "        break\n",
    "else: \n",
    "    print(f\"Access denied for you Mr.{input_user}\")\n",
    "    "
   ]
  },
  {
   "cell_type": "code",
   "execution_count": 26,
   "id": "84142cd2-6b17-4dcd-ba89-e723612b4d02",
   "metadata": {},
   "outputs": [
    {
     "name": "stdout",
     "output_type": "stream",
     "text": [
      "Enter your name Ehtesham\n",
      "Enter your password 123\n"
     ]
    },
    {
     "name": "stdout",
     "output_type": "stream",
     "text": [
      "Access denied for you Mr.Ehtesham\n"
     ]
    }
   ],
   "source": [
    "data_base : list[tuple[str,str]] = [(\"Amjad\",'123'),\n",
    "                                    (\"Ali\",'345'),\n",
    "                                    ('Ahmed','789')\n",
    "                                    ]\n",
    "\n",
    "input_user: str = input(\"Enter your name\")\n",
    "input_password: str = input(\"Enter your password\")\n",
    "\n",
    "for row in data_base:\n",
    "    user, password = row\n",
    "    if user==input_user and input_password==password:\n",
    "        print(f\"Access granted to {user}\")\n",
    "        break\n",
    "else: \n",
    "    print(f\"Access denied for you Mr.{input_user}\")\n",
    "    "
   ]
  },
  {
   "cell_type": "markdown",
   "id": "0520488b-c343-4cd3-8e5b-483a0f91d026",
   "metadata": {},
   "source": [
    "# Numbers with loop\n",
    "* `range(start,end,step)`"
   ]
  },
  {
   "cell_type": "code",
   "execution_count": 27,
   "id": "e5916e35-c93d-424d-b97e-dc37e53f3cd0",
   "metadata": {},
   "outputs": [
    {
     "data": {
      "text/plain": [
       "range(0, 10)"
      ]
     },
     "execution_count": 27,
     "metadata": {},
     "output_type": "execute_result"
    }
   ],
   "source": [
    "range(10)"
   ]
  },
  {
   "cell_type": "code",
   "execution_count": 28,
   "id": "3e9c3894-7bad-4bd6-b696-33ac560fb11e",
   "metadata": {},
   "outputs": [
    {
     "data": {
      "text/plain": [
       "[1, 2, 3, 4, 5, 6, 7, 8, 9]"
      ]
     },
     "execution_count": 28,
     "metadata": {},
     "output_type": "execute_result"
    }
   ],
   "source": [
    "list(range(1,10)) #Starting at 0, ending at n-1 i.e:- 9"
   ]
  },
  {
   "cell_type": "code",
   "execution_count": 29,
   "id": "e3570547-4196-4127-9d5b-4101b45b28db",
   "metadata": {},
   "outputs": [
    {
     "data": {
      "text/plain": [
       "[2, 4, 6, 8, 10, 12, 14, 16, 18, 20]"
      ]
     },
     "execution_count": 29,
     "metadata": {},
     "output_type": "execute_result"
    }
   ],
   "source": [
    "list(range(2,21,2))"
   ]
  },
  {
   "cell_type": "code",
   "execution_count": 30,
   "id": "3fcdaaf2-d602-4b86-924b-5104b1328784",
   "metadata": {},
   "outputs": [
    {
     "name": "stdout",
     "output_type": "stream",
     "text": [
      "2\n",
      "4\n",
      "6\n",
      "8\n",
      "10\n",
      "12\n",
      "14\n",
      "16\n",
      "18\n",
      "20\n"
     ]
    }
   ],
   "source": [
    "for n in range(2,21,2):\n",
    "    print(n)"
   ]
  },
  {
   "cell_type": "code",
   "execution_count": 31,
   "id": "e3234d05-61c6-484d-82e1-ea85c620538e",
   "metadata": {},
   "outputs": [
    {
     "data": {
      "text/plain": [
       "[(0, 'Amjad'), (1, 'Ali'), (2, 'Ehtesham')]"
      ]
     },
     "execution_count": 31,
     "metadata": {},
     "output_type": "execute_result"
    }
   ],
   "source": [
    "names = [\"Amjad\",\"Ali\",\"Ehtesham\"]\n",
    "list(enumerate(names))"
   ]
  },
  {
   "cell_type": "code",
   "execution_count": 32,
   "id": "f5bc327f-5b47-4973-8205-f2351b1a451d",
   "metadata": {},
   "outputs": [
    {
     "name": "stdout",
     "output_type": "stream",
     "text": [
      "0 Amjad\n",
      "1 Ali\n",
      "2 Ehtesham\n"
     ]
    }
   ],
   "source": [
    "names = [\"Amjad\",\"Ali\",\"Ehtesham\"]\n",
    "for index, name in enumerate(names):\n",
    "    print(index, name)"
   ]
  },
  {
   "cell_type": "code",
   "execution_count": 39,
   "id": "0fcfc034-466d-4f96-a083-d5c793d083b8",
   "metadata": {},
   "outputs": [
    {
     "name": "stdout",
     "output_type": "stream",
     "text": [
      "2 X 1 = 2\n",
      "2 X 2 = 4\n",
      "2 X 3 = 6\n",
      "2 X 4 = 8\n",
      "2 X 5 = 10\n",
      "2 X 6 = 12\n",
      "2 X 7 = 14\n",
      "2 X 8 = 16\n",
      "2 X 9 = 18\n",
      "2 X 10 = 20\n"
     ]
    }
   ],
   "source": [
    "for n in range (1,11):\n",
    "    print(f\"2 X {n} = {n*2}\")"
   ]
  },
  {
   "cell_type": "code",
   "execution_count": 43,
   "id": "069ddbef-f9d9-4ee7-b66b-89a89dbc7f15",
   "metadata": {},
   "outputs": [
    {
     "name": "stdout",
     "output_type": "stream",
     "text": [
      "[1, 4, 9, 16, 25, 36, 49, 64, 81, 100]\n"
     ]
    }
   ],
   "source": [
    "squares: list[int] = []\n",
    "for value in range(1,11):\n",
    "    square = value**2  # \"**\" is used for power\n",
    "    squares.append(square)\n",
    "print (squares)"
   ]
  },
  {
   "cell_type": "markdown",
   "id": "7a89cc97-1ad2-4ee1-9127-18211f13c868",
   "metadata": {},
   "source": [
    "# List comprehensive \n",
    "```\n",
    "for item in item_list:\n",
    "    loop_body\n",
    "```\n",
    "\n",
    "### Comprehensive Style\n",
    "```\n",
    "[loop_body for item in item_list]\n",
    "```"
   ]
  },
  {
   "cell_type": "code",
   "execution_count": 44,
   "id": "e13efa46-021b-4618-8ece-93f3561f72c1",
   "metadata": {},
   "outputs": [
    {
     "data": {
      "text/plain": [
       "[1, 2, 3, 4, 5, 6, 7, 8, 9, 10]"
      ]
     },
     "execution_count": 44,
     "metadata": {},
     "output_type": "execute_result"
    }
   ],
   "source": [
    "list(range(1,11))"
   ]
  },
  {
   "cell_type": "code",
   "execution_count": 45,
   "id": "326e72d2-6c4b-4738-88b0-968e5d5b76f8",
   "metadata": {},
   "outputs": [
    {
     "name": "stdout",
     "output_type": "stream",
     "text": [
      "1\n",
      "4\n",
      "9\n",
      "16\n",
      "25\n",
      "36\n",
      "49\n",
      "64\n",
      "81\n",
      "100\n"
     ]
    }
   ],
   "source": [
    "for i in range(1,11):\n",
    "    print(i**2)"
   ]
  },
  {
   "cell_type": "code",
   "execution_count": 47,
   "id": "97488080-5b4f-4042-a6ca-5eb2c1f0e649",
   "metadata": {},
   "outputs": [
    {
     "data": {
      "text/plain": [
       "[1, 4, 9, 16, 25, 36, 49, 64, 81, 100]"
      ]
     },
     "execution_count": 47,
     "metadata": {},
     "output_type": "execute_result"
    }
   ],
   "source": [
    "[i**2 for i in range(1,11)]"
   ]
  },
  {
   "cell_type": "code",
   "execution_count": 48,
   "id": "8d989d07-813f-4d5a-a3f6-d90dfe9ca817",
   "metadata": {},
   "outputs": [
    {
     "data": {
      "text/plain": [
       "'line 3'"
      ]
     },
     "execution_count": 48,
     "metadata": {},
     "output_type": "execute_result"
    }
   ],
   "source": [
    "'line 1'\n",
    "'line 2'\n",
    "'line 3' #speciallity of jupeter notebook is that is always return the last line"
   ]
  },
  {
   "cell_type": "code",
   "execution_count": 52,
   "id": "b73c5919-def3-4115-a1d3-a922df05f737",
   "metadata": {},
   "outputs": [
    {
     "name": "stdout",
     "output_type": "stream",
     "text": [
      "[1, 4, 9, 16, 25, 36, 49, 64, 81, 100]\n",
      "100\n",
      "1\n",
      "385\n"
     ]
    }
   ],
   "source": [
    "digits: list[int] = [1, 4, 9, 16, 25, 36, 49, 64, 81, 100]\n",
    "print (digits)\n",
    "print(max(digits))\n",
    "print(min(digits))\n",
    "print(sum(digits))"
   ]
  },
  {
   "cell_type": "code",
   "execution_count": 53,
   "id": "c261729c-1ce2-4bc3-b51e-1bfe528baef5",
   "metadata": {},
   "outputs": [
    {
     "name": "stdout",
     "output_type": "stream",
     "text": [
      "['pizza', 'falafel', 'carrot cake']\n",
      "['pizza', 'falafel', 'carrot cake']\n",
      "['pizza', 'falafel', 'carrot cake']\n",
      "['Tikka', 'falafel', 'carrot cake']\n"
     ]
    }
   ],
   "source": [
    "my_foods = ['pizza', 'falafel', 'carrot cake'] \n",
    "friend_foods = my_foods[:] # deep copy\n",
    "\n",
    "print(my_foods)\n",
    "print(friend_foods)\n",
    "\n",
    "friend_foods[0] = \"Tikka\"\n",
    "\n",
    "print(my_foods)\n",
    "print(friend_foods)"
   ]
  },
  {
   "cell_type": "markdown",
   "id": "446e6760-187c-436e-a417-e6f17b5ae9b6",
   "metadata": {},
   "source": [
    "# Tuples\n",
    "* `it does not change or update`\n",
    "* `it can not be append`"
   ]
  },
  {
   "cell_type": "code",
   "execution_count": 54,
   "id": "6114743f-f9ff-4938-b647-59b99c8a8de9",
   "metadata": {},
   "outputs": [
    {
     "name": "stdout",
     "output_type": "stream",
     "text": [
      "['a', 'b', 'c']\n",
      "a\n",
      "['a', 'b']\n"
     ]
    }
   ],
   "source": [
    "names: tuple[str] = ('a','b','c')\n",
    "print(names)\n",
    "print(names[0])\n",
    "print(names[0:2])"
   ]
  },
  {
   "cell_type": "code",
   "execution_count": 64,
   "id": "f59122c8-86b2-40d3-a5c8-a7e0103ec0c7",
   "metadata": {},
   "outputs": [
    {
     "ename": "TypeError",
     "evalue": "'tuple' object does not support item assignment",
     "output_type": "error",
     "traceback": [
      "\u001b[1;31m---------------------------------------------------------------------------\u001b[0m",
      "\u001b[1;31mTypeError\u001b[0m                                 Traceback (most recent call last)",
      "Cell \u001b[1;32mIn[64], line 3\u001b[0m\n\u001b[0;32m      1\u001b[0m names: \u001b[38;5;28mtuple\u001b[39m[\u001b[38;5;28mstr\u001b[39m] \u001b[38;5;241m=\u001b[39m (\u001b[38;5;124m'\u001b[39m\u001b[38;5;124ma\u001b[39m\u001b[38;5;124m'\u001b[39m,\u001b[38;5;124m'\u001b[39m\u001b[38;5;124mb\u001b[39m\u001b[38;5;124m'\u001b[39m,\u001b[38;5;124m'\u001b[39m\u001b[38;5;124mc\u001b[39m\u001b[38;5;124m'\u001b[39m)\n\u001b[1;32m----> 3\u001b[0m \u001b[43mnames\u001b[49m\u001b[43m[\u001b[49m\u001b[38;5;241;43m0\u001b[39;49m\u001b[43m]\u001b[49m \u001b[38;5;241m=\u001b[39m \u001b[38;5;124m\"\u001b[39m\u001b[38;5;124mPakistan\u001b[39m\u001b[38;5;124m\"\u001b[39m\n",
      "\u001b[1;31mTypeError\u001b[0m: 'tuple' object does not support item assignment"
     ]
    }
   ],
   "source": [
    "names: tuple[str] = ('a','b','c')\n",
    "\n",
    "names[0] = \"Pakistan\""
   ]
  },
  {
   "cell_type": "code",
   "execution_count": 66,
   "id": "6e11da71-4e8d-4bda-b97b-4420d17d4f26",
   "metadata": {},
   "outputs": [
    {
     "name": "stdout",
     "output_type": "stream",
     "text": [
      "('Pakistan', 'B', 'C')\n"
     ]
    }
   ],
   "source": [
    "names:tuple[str] = ('A',\"B\",'C')\n",
    "\n",
    "names:tuple[str] = ('Pakistan',\"B\",'C') # we just reassign the values not updated\n",
    "\n",
    "print(names)"
   ]
  },
  {
   "cell_type": "code",
   "execution_count": 67,
   "id": "bcc269ba-a661-4062-abe3-c65bb0889974",
   "metadata": {},
   "outputs": [
    {
     "name": "stdout",
     "output_type": "stream",
     "text": [
      "('A', [1, 2, 3], True)\n"
     ]
    }
   ],
   "source": [
    "from typing import Any\n",
    "data : tuple[Any] = (\"A\",[1,2,3], True)\n",
    "\n",
    "print(data)"
   ]
  },
  {
   "cell_type": "code",
   "execution_count": 69,
   "id": "76eb91e4-5f01-4de4-b1de-f90d6222e71f",
   "metadata": {},
   "outputs": [
    {
     "name": "stdout",
     "output_type": "stream",
     "text": [
      "[1, 2, 3]\n",
      "('A', [1, 2, 3, 20], True)\n"
     ]
    }
   ],
   "source": [
    "data : tuple[Any] = (\"A\",[1,2,3], True)\n",
    "\n",
    "print(data[1])\n",
    "data[1].append(20)  #tuple can not be updated, but the data of the objects in tuple can be updated\n",
    "print(data)"
   ]
  }
 ],
 "metadata": {
  "kernelspec": {
   "display_name": "Python 3 (ipykernel)",
   "language": "python",
   "name": "python3"
  },
  "language_info": {
   "codemirror_mode": {
    "name": "ipython",
    "version": 3
   },
   "file_extension": ".py",
   "mimetype": "text/x-python",
   "name": "python",
   "nbconvert_exporter": "python",
   "pygments_lexer": "ipython3",
   "version": "3.12.0"
  }
 },
 "nbformat": 4,
 "nbformat_minor": 5
}
